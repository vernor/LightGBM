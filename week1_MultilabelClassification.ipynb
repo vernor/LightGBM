{
  "nbformat": 4,
  "nbformat_minor": 0,
  "metadata": {
    "colab": {
      "name": "Copy of week1-MultilabelClassification.ipynb",
      "version": "0.3.2",
      "provenance": [],
      "toc_visible": true,
      "include_colab_link": true
    },
    "kernelspec": {
      "display_name": "Python 3",
      "language": "python",
      "name": "python3"
    }
  },
  "cells": [
    {
      "cell_type": "markdown",
      "metadata": {
        "id": "view-in-github",
        "colab_type": "text"
      },
      "source": [
        "<a href=\"https://colab.research.google.com/github/vernor/LightGBM/blob/master/week1_MultilabelClassification.ipynb\" target=\"_parent\"><img src=\"https://colab.research.google.com/assets/colab-badge.svg\" alt=\"Open In Colab\"/></a>"
      ]
    },
    {
      "metadata": {
        "id": "JvZNEr_cNAD5",
        "colab_type": "text"
      },
      "cell_type": "markdown",
      "source": [
        "# Predict tags on StackOverflow with linear models"
      ]
    },
    {
      "metadata": {
        "id": "dovyjNRNNAD9",
        "colab_type": "text"
      },
      "cell_type": "markdown",
      "source": [
        "In this assignment you will learn how to predict tags for posts from [StackOverflow](https://stackoverflow.com). To solve this task you will use multilabel classification approach.\n",
        "\n",
        "### Libraries\n",
        "\n",
        "In this task you will need the following libraries:\n",
        "- [Numpy](http://www.numpy.org) — a package for scientific computing.\n",
        "- [Pandas](https://pandas.pydata.org) — a library providing high-performance, easy-to-use data structures and data analysis tools for the Python\n",
        "- [scikit-learn](http://scikit-learn.org/stable/index.html) — a tool for data mining and data analysis.\n",
        "- [NLTK](http://www.nltk.org) — a platform to work with natural language."
      ]
    },
    {
      "metadata": {
        "id": "c6eqNfbJNAD_",
        "colab_type": "text"
      },
      "cell_type": "markdown",
      "source": [
        "### Data\n",
        "\n",
        "The following cell will download all data required for this assignment into the folder `week1/data`."
      ]
    },
    {
      "metadata": {
        "id": "txnyOiSfNSOm",
        "colab_type": "code",
        "outputId": "e95755ed-d9a5-40a4-efe9-bc9402d3e541",
        "colab": {
          "base_uri": "https://localhost:8080/",
          "height": 269
        }
      },
      "cell_type": "code",
      "source": [
        "! wget https://raw.githubusercontent.com/hse-aml/natural-language-processing/master/setup_google_colab.py -O setup_google_colab.py\n",
        "\n",
        "import setup_google_colab\n",
        "\n",
        "setup_google_colab.setup_week1()  \n",
        "\n",
        "import sys\n",
        "\n",
        "sys.path.append(\"..\")\n",
        "\n",
        "from common.download_utils import download_week1_resources\n",
        "\n",
        "download_week1_resources()"
      ],
      "execution_count": 0,
      "outputs": [
        {
          "output_type": "stream",
          "text": [
            "--2019-03-24 22:07:47--  https://raw.githubusercontent.com/hse-aml/natural-language-processing/master/setup_google_colab.py\n",
            "Resolving raw.githubusercontent.com (raw.githubusercontent.com)... 151.101.0.133, 151.101.64.133, 151.101.128.133, ...\n",
            "Connecting to raw.githubusercontent.com (raw.githubusercontent.com)|151.101.0.133|:443... connected.\n",
            "HTTP request sent, awaiting response... 200 OK\n",
            "Length: 2330 (2.3K) [text/plain]\n",
            "Saving to: ‘setup_google_colab.py’\n",
            "\n",
            "\rsetup_google_colab.   0%[                    ]       0  --.-KB/s               \rsetup_google_colab. 100%[===================>]   2.28K  --.-KB/s    in 0s      \n",
            "\n",
            "2019-03-24 22:07:47 (32.1 MB/s) - ‘setup_google_colab.py’ saved [2330/2330]\n",
            "\n",
            "File data/train.tsv is already downloaded.\n",
            "File data/validation.tsv is already downloaded.\n",
            "File data/test.tsv is already downloaded.\n",
            "File data/text_prepare_tests.tsv is already downloaded.\n"
          ],
          "name": "stdout"
        }
      ]
    },
    {
      "metadata": {
        "id": "co7-G33KNAEM",
        "colab_type": "text"
      },
      "cell_type": "markdown",
      "source": [
        "### Grading\n",
        "We will create a grader instance below and use it to collect your answers. Note that these outputs will be stored locally inside grader and will be uploaded to platform only after running submitting function in the last part of this assignment. If you want to make partial submission, you can run that cell any time you want."
      ]
    },
    {
      "metadata": {
        "id": "lKnoXuzkNAEU",
        "colab_type": "text"
      },
      "cell_type": "markdown",
      "source": [
        "### Text preprocessing"
      ]
    },
    {
      "metadata": {
        "id": "MaOPUHUhNAEV",
        "colab_type": "text"
      },
      "cell_type": "markdown",
      "source": [
        "For this and most of the following assignments you will need to use a list of stop words. It can be downloaded from *nltk*:"
      ]
    },
    {
      "metadata": {
        "id": "kkIm-jhTNAEW",
        "colab_type": "code",
        "outputId": "c3d97bf1-3d90-4f87-edbc-e54defda8f49",
        "colab": {
          "base_uri": "https://localhost:8080/",
          "height": 50
        }
      },
      "cell_type": "code",
      "source": [
        "from grader import Grader\n",
        "\n",
        "grader = Grader()\n",
        "\n",
        "import nltk\n",
        "\n",
        "nltk.download('stopwords')\n",
        "\n",
        "from nltk.corpus import stopwords\n",
        "\n",
        "from sklearn.feature_extraction.text import TfidfVectorizer\n",
        "\n",
        "from ast import literal_eval\n",
        "\n",
        "import pandas as pd\n",
        "\n",
        "import numpy as np\n",
        "\n",
        "import re"
      ],
      "execution_count": 0,
      "outputs": [
        {
          "output_type": "stream",
          "text": [
            "[nltk_data] Downloading package stopwords to /root/nltk_data...\n",
            "[nltk_data]   Package stopwords is already up-to-date!\n"
          ],
          "name": "stdout"
        }
      ]
    },
    {
      "metadata": {
        "id": "VV0AzxxsNAEa",
        "colab_type": "text"
      },
      "cell_type": "markdown",
      "source": [
        "In this task you will deal with a dataset of post titles from StackOverflow. You are provided a split to 3 sets: *train*, *validation* and *test*. All corpora (except for *test*) contain titles of the posts and corresponding tags (100 tags are available). The *test* set is provided for Coursera's grading and doesn't contain answers. Upload the corpora using *pandas* and look at the data:"
      ]
    },
    {
      "metadata": {
        "id": "Xkyoa8IZNAEf",
        "colab_type": "code",
        "colab": {}
      },
      "cell_type": "code",
      "source": [
        "def read_data(filename):\n",
        "    data = pd.read_csv(filename, sep='\\t')\n",
        "    data['tags'] = data['tags'].apply(literal_eval)\n",
        "    return data\n",
        "  \n",
        "train = read_data('data/train.tsv')\n",
        "validation = read_data('data/validation.tsv')\n",
        "test = pd.read_csv('data/test.tsv', sep='\\t')\n",
        "\n",
        "\n",
        "X_train, y_train = train['title'].values, train['tags'].values\n",
        "\n",
        "X_val, y_val = validation['title'].values, validation['tags'].values\n",
        "\n",
        "X_test = test['title'].values\n",
        "\n",
        "from IPython.core.interactiveshell import InteractiveShell\n",
        "InteractiveShell.ast_node_interactivity = \"all\"\n",
        "\n",
        "tokenizer = nltk.tokenize.WhitespaceTokenizer()"
      ],
      "execution_count": 0,
      "outputs": []
    },
    {
      "metadata": {
        "id": "hFue8HEZNAEr",
        "colab_type": "text"
      },
      "cell_type": "markdown",
      "source": [
        "As you can see, *title* column contains titles of the posts and *tags* column contains the tags. It could be noticed that a number of tags for a post is not fixed and could be as many as necessary."
      ]
    },
    {
      "metadata": {
        "id": "mvxZRsM4NAEu",
        "colab_type": "text"
      },
      "cell_type": "markdown",
      "source": [
        "For a more comfortable usage, initialize *X_train*, *X_val*, *X_test*, *y_train*, *y_val*."
      ]
    },
    {
      "metadata": {
        "id": "ZdPr2hEANAEy",
        "colab_type": "text"
      },
      "cell_type": "markdown",
      "source": [
        "One of the most known difficulties when working with natural data is that it's unstructured. For example, if you use it \"as is\" and extract tokens just by splitting the titles by whitespaces, you will see that there are many \"weird\" tokens like *3.5?*, *\"Flip*, etc. To prevent the problems, it's usually useful to prepare the data somehow. In this task you'll write a function, which will be also used in the other assignments. \n",
        "\n",
        "**Task 1 (TextPrepare).** Implement the function *text_prepare* following the instructions. After that, run the function *test_test_prepare* to test it on tiny cases and submit it to Coursera."
      ]
    },
    {
      "metadata": {
        "id": "A-WlxOJM38X5",
        "colab_type": "code",
        "colab": {}
      },
      "cell_type": "code",
      "source": [
        "REPLACE_BY_SPACE_RE = re.compile('[/(){}\\[\\]\\|@,;]')\n",
        "\n",
        "BAD_SYMBOLS_RE = re.compile('[^0-9a-z #+_]')\n",
        "\n",
        "STOPWORDS = set(stopwords.words('english'))\n",
        "\n",
        "examples = [\"SQL Server - any equivalent of Excel's CHOOSE function?\",\n",
        "                  \"How to free c++ memory vector<int> * arr?\"]\n",
        "\n",
        "def text_prepare(text):  \n",
        "  \n",
        "  text = text.lower()\n",
        "\n",
        "  text = re.sub(REPLACE_BY_SPACE_RE,' ',text)\n",
        "\n",
        "  text = re.sub(BAD_SYMBOLS_RE,'',text)\n",
        "\n",
        "  text = ' '.join([w for w in tokenizer.tokenize(text) if w not in STOPWORDS])\n",
        "  \n",
        "  return text"
      ],
      "execution_count": 0,
      "outputs": []
    },
    {
      "metadata": {
        "id": "4ROJ47-RNAE6",
        "colab_type": "code",
        "outputId": "e13dddf5-f994-479c-a5be-63296539397c",
        "colab": {
          "base_uri": "https://localhost:8080/",
          "height": 34
        }
      },
      "cell_type": "code",
      "source": [
        "def test_text_prepare():\n",
        "    examples = [\"SQL Server - any equivalent of Excel's CHOOSE function?\",\n",
        "                \"How to free c++ memory vector<int> * arr?\"]\n",
        "    answers = [\"sql server equivalent excels choose function\", \n",
        "               \"free c++ memory vectorint arr\"]\n",
        "    for ex, ans in zip(examples, answers):\n",
        "        if text_prepare(ex) != ans:\n",
        "            return \"Wrong answer for the case: '%s'\" % ex\n",
        "    return 'Basic tests are passed.'\n",
        "  \n",
        "test_text_prepare()"
      ],
      "execution_count": 0,
      "outputs": [
        {
          "output_type": "execute_result",
          "data": {
            "text/plain": [
              "'Basic tests are passed.'"
            ]
          },
          "metadata": {
            "tags": []
          },
          "execution_count": 8
        }
      ]
    },
    {
      "metadata": {
        "id": "Tq80bujDNAFC",
        "colab_type": "text"
      },
      "cell_type": "markdown",
      "source": [
        "Run your implementation for questions from file *text_prepare_tests.tsv* to earn the points."
      ]
    },
    {
      "metadata": {
        "id": "BXr7qcSqNAFD",
        "colab_type": "code",
        "outputId": "18a82522-5431-4aaa-9302-fb10c2c78769",
        "colab": {
          "base_uri": "https://localhost:8080/",
          "height": 101
        }
      },
      "cell_type": "code",
      "source": [
        "prepared_questions = []\n",
        "for line in open('data/text_prepare_tests.tsv', encoding='utf-8'):\n",
        "    line = text_prepare(line.strip())\n",
        "    prepared_questions.append(line)\n",
        "text_prepare_results = '\\n'.join(prepared_questions)\n",
        "\n",
        "grader.submit_tag('TextPrepare', text_prepare_results)"
      ],
      "execution_count": 0,
      "outputs": [
        {
          "output_type": "stream",
          "text": [
            "Current answer for task TextPrepare is:\n",
            " sqlite php readonly\n",
            "creating multiple textboxes dynamically\n",
            "self one prefer javascript\n",
            "save php date...\n"
          ],
          "name": "stdout"
        }
      ]
    },
    {
      "metadata": {
        "id": "Y5pxLW1DNAFK",
        "colab_type": "text"
      },
      "cell_type": "markdown",
      "source": [
        "Now we can preprocess the titles using function *text_prepare* and  making sure that the headers don't have bad symbols:"
      ]
    },
    {
      "metadata": {
        "id": "cYm2Mcd1ph8M",
        "colab_type": "code",
        "outputId": "56a1819c-4acf-4625-94f5-c5820c708b70",
        "colab": {
          "base_uri": "https://localhost:8080/",
          "height": 54
        }
      },
      "cell_type": "code",
      "source": [
        "text_prepare_results"
      ],
      "execution_count": 0,
      "outputs": [
        {
          "output_type": "execute_result",
          "data": {
            "text/plain": [
              "'sqlite php readonly\\ncreating multiple textboxes dynamically\\nself one prefer javascript\\nsave php date string mysql database timestamp\\nfill dropdownlist data xml file aspnet application\\nprogrammatically trigger jqueryui draggables drag event\\nget value method argument via reflection java\\nknockout mapingfromjs observablearray json object data gets lost\\nfacebook connect localhost weird stuff\\nfullcalendar prev next click\\nsyntaxerror unexpected token\\neffective way float double comparison\\ngem install rails fails dns error\\nlistshuttle component richfaces getting updated\\nlaravel responsedownload show images laravel\\nwrong rspec test\\ncalendar display using java swing\\npython selenium import regular firefox profile addons\\nrandom number 2 variables values\\naltering http responses firefox extension\\nstart session python web application\\nalign radio buttons horizontally django forms\\ncount number rows sqlite database\\nwordpress wp_rewrite rules\\nremoving sheet excel 2005 using php\\nphp fatal error function name must string\\navoid used another process using filecopy c#\\nphp calling class method class name variable string\\nvector iterator dereferencable loop\\nmysql search statement multiple filters\\nphp bluetooth rfcomm library\\nalternatives javas scanner class console input\\nphp displaying errors\\ncheck whether two matrixes identical opencv\\nopen external links open new tab apart domain\\nregistrygetvalue always return null\\ninstalling eventmachine windows 8\\ncalculate throughput\\nwant seperate integer part fractional part float number python\\nproperly manage tomcat web apps inside eclipse\\ntrouble setting headers qnetworkrequest cant understand\\nextend request class laravel 5\\ndifference matrix asmatrix r\\ninstall clickonce without running\\njquery selected option value contains string\\nerror deploying tomcat tomcatmanager status code404 reasonphrasenot found\\npretty print distances ios\\nerror expected unqualifiedid const line 8\\nmocking reflection based calls\\nset blank excel cell using poi\\nxcode code coverage\\ncreating interactive bar chart google analytics data\\nmathh compilation error expected declaration specifiers\\ndisadvantage object composition class inheritance\\ncommongodbmongotimeoutexception timed 10000 ms waiting connect\\npython pandas skip columns reading file\\nunable get property 1 undefined null reference\\npydeveclipse python configured\\npython socket server receive image\\nevent handle\\nld_library_path ignored android sometimes\\ncoin toss javascript html\\nefficient way concatenate strings\\njavalangnullpointerexception trying read files\\nassigning lambda actiont\\nsplit string list keeping split pattern\\ncompile c code windows 64\\nyii condition multiple ors operator precedence\\nshow sql queries run rails console\\nchange viewstate value dynamically\\nbest practice list polymorphic objects c++\\njavascript get values selected checkboxes table\\npython convert hex ascii string raw internal binary string\\nmagento multi language rewrites seo fix\\nul form sending _post\\nshowing alert box using php javascript\\ngoogle maps api v3 looping adding polylines map\\nphp remove characters last occurrence character string\\nuse qt creator visual c++ compiler windows\\napache spark python lambda\\nadjusting camera visible threejs shape\\npython imaging library show windows\\nopen close website using default browser python\\nphp security nonce unique form key problem\\nspring batch simplejobrepository example working\\ngetting oledbexception value given one required parameters\\nphp session deleted page reload\\nvaadin multiple browser windows tabs\\nfrustrating uiwebview delegate crash issue\\nload factor capacity hash table\\nformat double string show decimal digits necessary\\nround java\\nusing usb printer c# without driver api\\nunbalanced parenthesis error regex\\nreading excel file c# causes oledbexception thrown\\nwant compare dtrows 1 itemarray 1 tostring 1 2 3 4 work show error\\njavaniocharsetmalformedinputexception input length 1\\njoin two unrelated tables using jpa entitymanager\\nensuring threadsafety static methods c#\\nloop focus input fields inside form'"
            ]
          },
          "metadata": {
            "tags": []
          },
          "execution_count": 41
        }
      ]
    },
    {
      "metadata": {
        "id": "sTyMHRJJNAFM",
        "colab_type": "code",
        "colab": {}
      },
      "cell_type": "code",
      "source": [
        "X_train = [text_prepare(x) for x in X_train]\n",
        "X_val = [text_prepare(x) for x in X_val]\n",
        "X_test = [text_prepare(x) for x in X_test]"
      ],
      "execution_count": 0,
      "outputs": []
    },
    {
      "metadata": {
        "id": "Fy9thmMNNAFQ",
        "colab_type": "code",
        "outputId": "65703a12-21c2-475b-a6dd-4dfcabc5e62c",
        "colab": {
          "base_uri": "https://localhost:8080/",
          "height": 67
        }
      },
      "cell_type": "code",
      "source": [
        "X_train[:3]"
      ],
      "execution_count": 0,
      "outputs": [
        {
          "output_type": "execute_result",
          "data": {
            "text/plain": [
              "['draw stacked dotplot r',\n",
              " 'mysql select records datetime field less specified value',\n",
              " 'terminate windows phone 81 app']"
            ]
          },
          "metadata": {
            "tags": []
          },
          "execution_count": 20
        }
      ]
    },
    {
      "metadata": {
        "id": "Cudv2atHNAFS",
        "colab_type": "text"
      },
      "cell_type": "markdown",
      "source": [
        "For each tag and for each word calculate how many times they occur in the train corpus. \n",
        "\n",
        "**Task 2 (WordsTagsCount).** Find 3 most popular tags and 3 most popular words in the train data and submit the results to earn the points."
      ]
    },
    {
      "metadata": {
        "id": "5oak15WqE9wU",
        "colab_type": "code",
        "colab": {}
      },
      "cell_type": "code",
      "source": [
        "from sklearn.feature_extraction.text import CountVectorizer\n",
        "\n",
        "tag_process = train.tags.map(\" \".join)\n",
        "\n",
        "basicvectorizer_tags = CountVectorizer(token_pattern= '(\\S+)')\n",
        "\n",
        "features_tags = basicvectorizer_tags.fit_transform(tag_process)\n",
        "\n",
        "count_raw = pd.DataFrame(features_tags.todense(),columns = basicvectorizer_tags.get_feature_names()).sum().to_dict()"
      ],
      "execution_count": 0,
      "outputs": []
    },
    {
      "metadata": {
        "id": "UW94xwZXGo05",
        "colab_type": "code",
        "colab": {}
      },
      "cell_type": "code",
      "source": [
        "# title_process = train.title.map(text_prepare)\n",
        "\n",
        "basicvectorizer_title = CountVectorizer(token_pattern= '(\\S+)')\n",
        "\n",
        "features_title = basicvectorizer_title.fit_transform(train.title)"
      ],
      "execution_count": 0,
      "outputs": []
    },
    {
      "metadata": {
        "id": "mM2E44lDNAFT",
        "colab_type": "code",
        "colab": {}
      },
      "cell_type": "code",
      "source": [
        "# Dictionary of all tags from train corpus with their counts.\n",
        "tags_counts = dict(zip(basicvectorizer_tags.get_feature_names(), features_tags.sum(axis = 0).tolist()[0]))\n",
        "# Dictionary of all words from train corpus with their counts.\n",
        "words_counts = dict(zip(basicvectorizer_title.get_feature_names(), features_title.sum(axis = 0).tolist()[0]))\n",
        "\n",
        "######################################\n",
        "######### YOUR CODE HERE #############\n",
        "######################################"
      ],
      "execution_count": 0,
      "outputs": []
    },
    {
      "metadata": {
        "id": "up4SVVT7oMWF",
        "colab_type": "code",
        "outputId": "f23029b3-5b28-4101-b4ec-6d498a925f6f",
        "colab": {
          "base_uri": "https://localhost:8080/",
          "height": 54
        }
      },
      "cell_type": "code",
      "source": [
        "tags_counts.items()"
      ],
      "execution_count": 0,
      "outputs": [
        {
          "output_type": "execute_result",
          "data": {
            "text/plain": [
              "dict_items([('.net', 3872), ('ajax', 1767), ('algorithm', 419), ('android', 2818), ('angularjs', 1353), ('apache', 441), ('arrays', 2277), ('asp.net', 3939), ('asp.net-mvc', 1244), ('c', 3119), ('c#', 19077), ('c++', 6469), ('class', 509), ('cocoa-touch', 507), ('codeigniter', 786), ('css', 1769), ('csv', 435), ('database', 740), ('date', 560), ('datetime', 557), ('django', 1835), ('dom', 400), ('eclipse', 992), ('entity-framework', 649), ('excel', 443), ('facebook', 508), ('file', 582), ('forms', 872), ('function', 487), ('generics', 420), ('google-maps', 408), ('hibernate', 807), ('html', 4668), ('html5', 842), ('image', 672), ('ios', 3256), ('iphone', 1909), ('java', 18661), ('javascript', 19078), ('jquery', 7510), ('json', 2026), ('jsp', 680), ('laravel', 525), ('linq', 964), ('linux', 793), ('list', 693), ('loops', 389), ('maven', 432), ('mongodb', 350), ('multithreading', 1118), ('mysql', 3092), ('node.js', 771), ('numpy', 502), ('objective-c', 4338), ('oop', 425), ('opencv', 401), ('osx', 490), ('pandas', 479), ('parsing', 403), ('performance', 512), ('php', 13907), ('pointers', 350), ('python', 8940), ('python-2.7', 421), ('python-3.x', 379), ('qt', 451), ('r', 1727), ('regex', 1442), ('rest', 456), ('ruby', 2326), ('ruby-on-rails', 3344), ('ruby-on-rails-3', 692), ('selenium', 431), ('servlets', 498), ('session', 415), ('sockets', 579), ('sorting', 375), ('spring', 1346), ('spring-mvc', 618), ('sql', 1272), ('sql-server', 585), ('string', 1573), ('swift', 1465), ('swing', 759), ('twitter-bootstrap', 501), ('uitableview', 460), ('unit-testing', 449), ('validation', 558), ('vb.net', 1918), ('visual-studio', 574), ('visual-studio-2010', 588), ('wcf', 389), ('web-services', 633), ('windows', 838), ('winforms', 1468), ('wordpress', 478), ('wpf', 1289), ('xaml', 438), ('xcode', 900), ('xml', 1347)])"
            ]
          },
          "metadata": {
            "tags": []
          },
          "execution_count": 14
        }
      ]
    },
    {
      "metadata": {
        "id": "9v1hVHUDNAFW",
        "colab_type": "text"
      },
      "cell_type": "markdown",
      "source": [
        "We are assuming that *tags_counts* and *words_counts* are dictionaries like `{'some_word_or_tag': frequency}`. After applying the sorting procedure, results will be look like this: `[('most_popular_word_or_tag', frequency), ('less_popular_word_or_tag', frequency), ...]`. The grader gets the results in the following format (two comma-separated strings with line break):\n",
        "\n",
        "    tag1,tag2,tag3\n",
        "    word1,word2,word3\n",
        "\n",
        "Pay attention that in this assignment you should not submit frequencies or some additional information."
      ]
    },
    {
      "metadata": {
        "id": "y4g8WgYINAFX",
        "colab_type": "code",
        "outputId": "47451309-3f40-4104-c44d-c594619a0d19",
        "colab": {
          "base_uri": "https://localhost:8080/",
          "height": 84
        }
      },
      "cell_type": "code",
      "source": [
        "most_common_tags = sorted(tags_counts.items(), key=lambda x: x[1], reverse=True)[:3]\n",
        "\n",
        "most_common_words = sorted(words_counts.items(), key=lambda x: x[1], reverse=True)[:3]\n",
        "\n",
        "grader.submit_tag('WordsTagsCount', '%s\\n%s' % (','.join(tag for tag, _ in most_common_tags), \n",
        "                                                 ','.join(word for word, _ in most_common_words)))\n",
        "\n",
        "most_common_tags\n",
        "\n",
        "most_common_words"
      ],
      "execution_count": 0,
      "outputs": [
        {
          "output_type": "stream",
          "text": [
            "Current answer for task WordsTagsCount is:\n",
            " javascript,c#,java\n",
            "to,in,a...\n"
          ],
          "name": "stdout"
        },
        {
          "output_type": "execute_result",
          "data": {
            "text/plain": [
              "[('javascript', 19078), ('c#', 19077), ('java', 18661)]"
            ]
          },
          "metadata": {
            "tags": []
          },
          "execution_count": 15
        },
        {
          "output_type": "execute_result",
          "data": {
            "text/plain": [
              "[('to', 35065), ('in', 30817), ('a', 24323)]"
            ]
          },
          "metadata": {
            "tags": []
          },
          "execution_count": 15
        }
      ]
    },
    {
      "metadata": {
        "id": "HLzKx-BONAFa",
        "colab_type": "text"
      },
      "cell_type": "markdown",
      "source": [
        "### Transforming text to a vector\n",
        "\n",
        "Machine Learning algorithms work with numeric data and we cannot use the provided text data \"as is\". There are many ways to transform text data to numeric vectors. In this task you will try to use two of them.\n",
        "\n",
        "#### Bag of words\n",
        "\n",
        "One of the well-known approaches is a *bag-of-words* representation. To create this transformation, follow the steps:\n",
        "1. Find *N* most popular words in train corpus and numerate them. Now we have a dictionary of the most popular words.\n",
        "2. For each title in the corpora create a zero vector with the dimension equals to *N*.\n",
        "3. For each text in the corpora iterate over words which are in the dictionary and increase by 1 the corresponding coordinate.\n",
        "\n",
        "Let's try to do it for a toy example. Imagine that we have *N* = 4 and the list of the most popular words is \n",
        "\n",
        "    ['hi', 'you', 'me', 'are']\n",
        "\n",
        "Then we need to numerate them, for example, like this: \n",
        "\n",
        "    {'hi': 0, 'you': 1, 'me': 2, 'are': 3}\n",
        "\n",
        "And we have the text, which we want to transform to the vector:\n",
        "\n",
        "    'hi how are you'\n",
        "\n",
        "For this text we create a corresponding zero vector \n",
        "\n",
        "    [0, 0, 0, 0]\n",
        "    \n",
        "And iterate over all words, and if the word is in the dictionary, we increase the value of the corresponding position in the vector:\n",
        "\n",
        "    'hi':  [1, 0, 0, 0]\n",
        "    'how': [1, 0, 0, 0] # word 'how' is not in our dictionary\n",
        "    'are': [1, 0, 0, 1]\n",
        "    'you': [1, 1, 0, 1]\n",
        "\n",
        "The resulting vector will be \n",
        "\n",
        "    [1, 1, 0, 1]\n",
        "   \n",
        "Implement the described encoding in the function *my_bag_of_words* with the size of the dictionary equals to 5000. To find the most common words use train data. You can test your code using the function *test_my_bag_of_words*."
      ]
    },
    {
      "metadata": {
        "id": "aMA5Hx7Q08ra",
        "colab_type": "code",
        "colab": {}
      },
      "cell_type": "code",
      "source": [
        "DICT_SIZE = 5000\n",
        "\n",
        "dict_1 = sorted(words_counts.items(), key=lambda x: x[1], reverse=True)[:DICT_SIZE]\n",
        "\n",
        "dict_1_pre_0 = [i[0] for i in sorted(words_counts.items(), key=lambda x: x[1], reverse=True)[:DICT_SIZE]]\n",
        "\n",
        "WORDS_TO_INDEX = dict(zip(dict_1_pre_0, range(5000)))\n",
        "\n",
        "INDEX_TO_WORDS = dict(zip(range(5000), dict_1_pre_0))\n",
        "\n",
        "ALL_WORDS = WORDS_TO_INDEX.keys()\n",
        "\n",
        "def my_bag_of_words(text, words_to_index, dict_size):\n",
        "  \n",
        "    \"\"\"\n",
        "        text: a string\n",
        "        \n",
        "        dict_size: size of the dictionary\n",
        "        \n",
        "        return a vector which is a bag-of-words representation of 'text'\n",
        "    \"\"\"\n",
        "    \n",
        "    result_vector = np.zeros(dict_size)\n",
        "    \n",
        "    token = text.split(' ')\n",
        "    \n",
        "#     for i in pd.Series(.map(words_to_index).dropna().values.astype(int)\n",
        "                       \n",
        "    for i in token:\n",
        "      ind_1 = words_to_index.get(i)\n",
        "      if ind_1 is not None:      \n",
        "        result_vector[ind_1] = 1\n",
        "\n",
        "    return result_vector"
      ],
      "execution_count": 0,
      "outputs": []
    },
    {
      "metadata": {
        "id": "-CmO_FJqNAFe",
        "colab_type": "code",
        "colab": {}
      },
      "cell_type": "code",
      "source": [
        "def test_my_bag_of_words():\n",
        "    words_to_index = {'hi': 0, 'you': 1, 'me': 2, 'are': 3}\n",
        "    examples = ['hi how are you']\n",
        "    answers = [[1, 1, 0, 1]]\n",
        "    for ex, ans in zip(examples, answers):\n",
        "        if (my_bag_of_words(ex, words_to_index, 4) != ans).any():\n",
        "            return \"Wrong answer for the case: '%s'\" % ex\n",
        "    return 'Basic tests are passed.'"
      ],
      "execution_count": 0,
      "outputs": []
    },
    {
      "metadata": {
        "id": "VvMAFXDGNAFi",
        "colab_type": "code",
        "outputId": "9ba189c4-708e-4df7-98bb-560325a44bd4",
        "colab": {
          "base_uri": "https://localhost:8080/",
          "height": 34
        }
      },
      "cell_type": "code",
      "source": [
        "print(test_my_bag_of_words())"
      ],
      "execution_count": 0,
      "outputs": [
        {
          "output_type": "stream",
          "text": [
            "Basic tests are passed.\n"
          ],
          "name": "stdout"
        }
      ]
    },
    {
      "metadata": {
        "id": "orXkthBWNAFl",
        "colab_type": "text"
      },
      "cell_type": "markdown",
      "source": [
        "Now apply the implemented function to all samples (this might take up to a minute):"
      ]
    },
    {
      "metadata": {
        "id": "MCf0wvWwNAFl",
        "colab_type": "code",
        "colab": {}
      },
      "cell_type": "code",
      "source": [
        "from scipy import sparse as sp_sparse"
      ],
      "execution_count": 0,
      "outputs": []
    },
    {
      "metadata": {
        "id": "Esg35G1SNAFo",
        "colab_type": "code",
        "outputId": "6cc9b9a1-1f84-4ffe-aa63-bc8e3743faa9",
        "colab": {
          "base_uri": "https://localhost:8080/",
          "height": 67
        }
      },
      "cell_type": "code",
      "source": [
        "X_train_mybag = sp_sparse.vstack([sp_sparse.csr_matrix(my_bag_of_words(text, WORDS_TO_INDEX, DICT_SIZE)) for text in X_train])\n",
        "\n",
        "X_val_mybag = sp_sparse.vstack([sp_sparse.csr_matrix(my_bag_of_words(text, WORDS_TO_INDEX, DICT_SIZE)) for text in X_val])\n",
        "\n",
        "X_test_mybag = sp_sparse.vstack([sp_sparse.csr_matrix(my_bag_of_words(text, WORDS_TO_INDEX, DICT_SIZE)) for text in X_test])\n",
        "\n",
        "print('X_train shape ', X_train_mybag.shape)\n",
        "\n",
        "print('X_val shape ', X_val_mybag.shape)\n",
        "\n",
        "print('X_test shape ', X_test_mybag.shape)"
      ],
      "execution_count": 0,
      "outputs": [
        {
          "output_type": "stream",
          "text": [
            "X_train shape  (100000, 5000)\n",
            "X_val shape  (30000, 5000)\n",
            "X_test shape  (20000, 5000)\n"
          ],
          "name": "stdout"
        }
      ]
    },
    {
      "metadata": {
        "id": "wzcC97PFNAFq",
        "colab_type": "text"
      },
      "cell_type": "markdown",
      "source": [
        "As you might notice, we transform the data to sparse representation, to store the useful information efficiently. There are many [types](https://docs.scipy.org/doc/scipy/reference/sparse.html) of such representations, however sklearn algorithms can work only with [csr](https://docs.scipy.org/doc/scipy/reference/generated/scipy.sparse.csr_matrix.html#scipy.sparse.csr_matrix) matrix, so we will use this one."
      ]
    },
    {
      "metadata": {
        "id": "3LsCHKsHNAFr",
        "colab_type": "text"
      },
      "cell_type": "markdown",
      "source": [
        "**Task 3 (BagOfWords).** For the 11th row in *X_train_mybag* find how many non-zero elements it has. In this task the answer (variable *non_zero_elements_count*) should be a number, e.g. 20."
      ]
    },
    {
      "metadata": {
        "id": "xfj-ywknNAFt",
        "colab_type": "code",
        "outputId": "89df7c17-9026-419c-ec50-8244f40eaa8b",
        "colab": {
          "base_uri": "https://localhost:8080/",
          "height": 50
        }
      },
      "cell_type": "code",
      "source": [
        "row = X_train_mybag[10].toarray()[0]\n",
        "\n",
        "non_zero_elements_count = row.sum()####### YOUR CODE HERE #######\n",
        "\n",
        "grader.submit_tag('BagOfWords', str(non_zero_elements_count))"
      ],
      "execution_count": 0,
      "outputs": [
        {
          "output_type": "stream",
          "text": [
            "Current answer for task BagOfWords is:\n",
            " 6.0...\n"
          ],
          "name": "stdout"
        }
      ]
    },
    {
      "metadata": {
        "id": "nnBERfvyNAFx",
        "colab_type": "text"
      },
      "cell_type": "markdown",
      "source": [
        "#### TF-IDF\n",
        "\n",
        "The second approach extends the bag-of-words framework by taking into account total frequencies of words in the corpora. It helps to penalize too frequent words and provide better features space. \n",
        "\n",
        "Implement function *tfidf_features* using class [TfidfVectorizer](http://scikit-learn.org/stable/modules/generated/sklearn.feature_extraction.text.TfidfVectorizer.html) from *scikit-learn*. Use *train* corpus to train a vectorizer. Don't forget to take a look into the arguments that you can pass to it. We suggest that you filter out too rare words (occur less than in 5 titles) and too frequent words (occur more than in 90% of the titles). Also, use bigrams along with unigrams in your vocabulary. "
      ]
    },
    {
      "metadata": {
        "id": "Bjhlc9FINAFx",
        "colab_type": "code",
        "colab": {}
      },
      "cell_type": "code",
      "source": [
        "from sklearn.feature_extraction.text import TfidfVectorizer"
      ],
      "execution_count": 0,
      "outputs": []
    },
    {
      "metadata": {
        "id": "v6_zg15_NAF1",
        "colab_type": "code",
        "colab": {}
      },
      "cell_type": "code",
      "source": [
        "def tfidf_features(X_train, X_val, X_test):\n",
        "    \"\"\"\n",
        "        X_train, X_val, X_test — samples        \n",
        "        return TF-IDF vectorized representation of each sample and vocabulary\n",
        "    \"\"\"\n",
        "    # Create TF-IDF vectorizer with a proper parameters choice\n",
        "    # Fit the vectorizer on the train set\n",
        "    # Transform the train, test, and val sets and return the result\n",
        "    \n",
        "    tfidf_vectorizer = TfidfVectorizer(min_df = 5, max_df = 0.9, ngram_range=(1, 1),token_pattern= '(\\S+)')\n",
        "\n",
        "    X_train = tfidf_vectorizer.fit_transform(X_train)\n",
        "    \n",
        "    X_val = tfidf_vectorizer.fit_transform(X_val)\n",
        "    \n",
        "    X_test = tfidf_vectorizer.fit_transform(X_test)\n",
        "    \n",
        "    return X_train, X_val, X_test, tfidf_vectorizer.vocabulary_"
      ],
      "execution_count": 0,
      "outputs": []
    },
    {
      "metadata": {
        "id": "5lco_thgNAF3",
        "colab_type": "text"
      },
      "cell_type": "markdown",
      "source": [
        "Once you have done text preprocessing, always have a look at the results. Be very careful at this step, because the performance of future models will drastically depend on it. \n",
        "\n",
        "In this case, check whether you have c++ or c# in your vocabulary, as they are obviously important tokens in our tags prediction task:"
      ]
    },
    {
      "metadata": {
        "id": "AdMBgQwANAF4",
        "colab_type": "code",
        "colab": {}
      },
      "cell_type": "code",
      "source": [
        "X_train_tfidf, X_val_tfidf, X_test_tfidf, tfidf_vocab = tfidf_features(X_train, X_val, X_test)\n",
        "\n",
        "tfidf_reversed_vocab = {i:word for word,i in tfidf_vocab.items()}"
      ],
      "execution_count": 0,
      "outputs": []
    },
    {
      "metadata": {
        "id": "12wFY9urNAF8",
        "colab_type": "code",
        "colab": {}
      },
      "cell_type": "code",
      "source": [
        "######### YOUR CODE HERE #############"
      ],
      "execution_count": 0,
      "outputs": []
    },
    {
      "metadata": {
        "id": "QPe7MbXsNAF-",
        "colab_type": "text"
      },
      "cell_type": "markdown",
      "source": [
        "If you can't find it, we need to understand how did it happen that we lost them? It happened during the built-in tokenization of TfidfVectorizer. Luckily, we can influence on this process. Get back to the function above and use '(\\S+)' regexp as a *token_pattern* in the constructor of the vectorizer.  "
      ]
    },
    {
      "metadata": {
        "id": "wx_fR0RnNAGA",
        "colab_type": "text"
      },
      "cell_type": "markdown",
      "source": [
        "Now, use this transormation for the data and check again."
      ]
    },
    {
      "metadata": {
        "id": "tGVr5u4TNAGA",
        "colab_type": "code",
        "colab": {}
      },
      "cell_type": "code",
      "source": [
        "######### YOUR CODE HERE #############"
      ],
      "execution_count": 0,
      "outputs": []
    },
    {
      "metadata": {
        "id": "7fmcaYseNAGE",
        "colab_type": "text"
      },
      "cell_type": "markdown",
      "source": [
        "### MultiLabel classifier\n",
        "\n",
        "As we have noticed before, in this task each example can have multiple tags. To deal with such kind of prediction, we need to transform labels in a binary form and the prediction will be a mask of 0s and 1s. For this purpose it is convenient to use [MultiLabelBinarizer](http://scikit-learn.org/stable/modules/generated/sklearn.preprocessing.MultiLabelBinarizer.html) from *sklearn*."
      ]
    },
    {
      "metadata": {
        "id": "XfYW-GCdNAGF",
        "colab_type": "code",
        "colab": {}
      },
      "cell_type": "code",
      "source": [
        "from sklearn.preprocessing import MultiLabelBinarizer"
      ],
      "execution_count": 0,
      "outputs": []
    },
    {
      "metadata": {
        "id": "1PZyJpIz2uI7",
        "colab_type": "code",
        "colab": {}
      },
      "cell_type": "code",
      "source": [
        "# train = read_data('data/train.tsv')\n",
        "# validation = read_data('data/validation.tsv')\n",
        "# test = pd.read_csv('data/test.tsv', sep='\\t')\n",
        "\n",
        "\n",
        "X_train, y_train = train['title'].values, train['tags'].values\n",
        "\n",
        "X_val, y_val = validation['title'].values, validation['tags'].values\n",
        "\n",
        "X_test = test['title'].values\n",
        "\n",
        "X_train = [text_prepare(x) for x in X_train]\n",
        "\n",
        "X_val = [text_prepare(x) for x in X_val]\n",
        "\n",
        "X_test = [text_prepare(x) for x in X_test]"
      ],
      "execution_count": 0,
      "outputs": []
    },
    {
      "metadata": {
        "id": "d2fPE54uxCoz",
        "colab_type": "code",
        "outputId": "2a7c2419-d522-4071-ed22-c99728745ca6",
        "colab": {
          "base_uri": "https://localhost:8080/",
          "height": 34
        }
      },
      "cell_type": "code",
      "source": [
        "X_train[99]"
      ],
      "execution_count": 0,
      "outputs": [
        {
          "output_type": "execute_result",
          "data": {
            "text/plain": [
              "'mappedby reference unknown target entity property'"
            ]
          },
          "metadata": {
            "tags": []
          },
          "execution_count": 39
        }
      ]
    },
    {
      "metadata": {
        "id": "djoIPn2T3dSu",
        "colab_type": "code",
        "outputId": "53d8428d-66bf-409e-f9cd-4b9984cb4ea1",
        "colab": {
          "base_uri": "https://localhost:8080/",
          "height": 34
        }
      },
      "cell_type": "code",
      "source": [
        "X_train_val_test = X_train + X_val + X_test\n",
        "\n",
        "basicvectorizer_all = CountVectorizer(min_df = 1, max_df = 0.95, ngram_range=(1, 1),token_pattern= '(\\S+)')\n",
        "\n",
        "BOW_all = basicvectorizer_all.fit_transform(X_train_val_test)\n",
        "\n",
        "BOW_all.shape\n",
        "\n",
        "BOW_train = BOW_all[:100000]\n",
        "\n",
        "BOW_val = BOW_all[100000:130000]\n",
        "\n",
        "BOW_test = BOW_all[130000:150000]\n",
        "\n",
        "BOW_train.shape\n",
        "\n",
        "BOW_val.shape\n",
        "\n",
        "BOW_val.sum(axis = 1).min()\n",
        "\n",
        "BOW_train.sum(axis = 1).min()"
      ],
      "execution_count": 0,
      "outputs": [
        {
          "output_type": "execute_result",
          "data": {
            "text/plain": [
              "(150000, 40314)"
            ]
          },
          "metadata": {
            "tags": []
          },
          "execution_count": 75
        },
        {
          "output_type": "execute_result",
          "data": {
            "text/plain": [
              "(100000, 40314)"
            ]
          },
          "metadata": {
            "tags": []
          },
          "execution_count": 75
        },
        {
          "output_type": "execute_result",
          "data": {
            "text/plain": [
              "(30000, 40314)"
            ]
          },
          "metadata": {
            "tags": []
          },
          "execution_count": 75
        },
        {
          "output_type": "execute_result",
          "data": {
            "text/plain": [
              "1"
            ]
          },
          "metadata": {
            "tags": []
          },
          "execution_count": 75
        },
        {
          "output_type": "execute_result",
          "data": {
            "text/plain": [
              "1"
            ]
          },
          "metadata": {
            "tags": []
          },
          "execution_count": 75
        }
      ]
    },
    {
      "metadata": {
        "id": "Pipu4v5KxS2S",
        "colab_type": "code",
        "outputId": "1013f716-fd4a-423a-d3dd-ad100ef8f8b0",
        "colab": {
          "base_uri": "https://localhost:8080/",
          "height": 34
        }
      },
      "cell_type": "code",
      "source": [
        "BOW_val.shape\n",
        "\n",
        "np.where(BOW_val.sum(axis = 1) ==0)"
      ],
      "execution_count": 0,
      "outputs": [
        {
          "output_type": "execute_result",
          "data": {
            "text/plain": [
              "(30000, 405333)"
            ]
          },
          "metadata": {
            "tags": []
          },
          "execution_count": 57
        },
        {
          "output_type": "execute_result",
          "data": {
            "text/plain": [
              "(array([], dtype=int64), array([], dtype=int64))"
            ]
          },
          "metadata": {
            "tags": []
          },
          "execution_count": 57
        }
      ]
    },
    {
      "metadata": {
        "id": "cTTXR4DyroR7",
        "colab_type": "code",
        "colab": {}
      },
      "cell_type": "code",
      "source": [
        "y_train = train['tags'].values\n",
        "\n",
        "y_val =  validation['tags'].values\n",
        "\n",
        "mlb = MultiLabelBinarizer(classes=sorted(tags_counts.keys()))\n",
        "\n",
        "y_train = mlb.fit_transform(y_train)\n",
        "\n",
        "y_val = mlb.fit_transform(y_val)"
      ],
      "execution_count": 0,
      "outputs": []
    },
    {
      "metadata": {
        "id": "aIJyjRZJNAGT",
        "colab_type": "text"
      },
      "cell_type": "markdown",
      "source": [
        "Implement the function *train_classifier* for training a classifier. In this task we suggest to use One-vs-Rest approach, which is implemented in [OneVsRestClassifier](http://scikit-learn.org/stable/modules/generated/sklearn.multiclass.OneVsRestClassifier.html) class. In this approach *k* classifiers (= number of tags) are trained. As a basic classifier, use [LogisticRegression](http://scikit-learn.org/stable/modules/generated/sklearn.linear_model.LogisticRegression.html). It is one of the simplest methods, but often it performs good enough in text classification tasks. It might take some time, because a number of classifiers to train is large."
      ]
    },
    {
      "metadata": {
        "id": "FHUmAki5NAGZ",
        "colab_type": "code",
        "colab": {}
      },
      "cell_type": "code",
      "source": [
        "import statsmodels.api as sm\n",
        "\n",
        "def train_classifier(X_train, y_train):\n",
        "    \"\"\"\n",
        "      X_train, y_train — training data\n",
        "      \n",
        "      return: trained classifier\n",
        "    \"\"\"\n",
        "    \n",
        "    OVR = OneVsRestClassifier(LogisticRegression()).fit(X_train,y_train)\n",
        "    \n",
        "    return OVR\n",
        "    "
      ],
      "execution_count": 0,
      "outputs": []
    },
    {
      "metadata": {
        "id": "8pZDq1lmNAGU",
        "colab_type": "code",
        "colab": {}
      },
      "cell_type": "code",
      "source": [
        "from sklearn.multiclass import OneVsRestClassifier\n",
        "from sklearn.linear_model import LogisticRegression, RidgeClassifier"
      ],
      "execution_count": 0,
      "outputs": []
    },
    {
      "metadata": {
        "id": "6neTWP21NAGf",
        "colab_type": "text"
      },
      "cell_type": "markdown",
      "source": [
        "Train the classifiers for different data transformations: *bag-of-words* and *tf-idf*."
      ]
    },
    {
      "metadata": {
        "id": "0blyfAmLtEwS",
        "colab_type": "code",
        "outputId": "781142a4-5b96-441b-ae23-baad1021354c",
        "colab": {
          "base_uri": "https://localhost:8080/",
          "height": 34
        }
      },
      "cell_type": "code",
      "source": [
        "BOW_train.shape\n",
        "\n",
        "y_train.shape"
      ],
      "execution_count": 0,
      "outputs": [
        {
          "output_type": "execute_result",
          "data": {
            "text/plain": [
              "(100000, 7813)"
            ]
          },
          "metadata": {
            "tags": []
          },
          "execution_count": 57
        },
        {
          "output_type": "execute_result",
          "data": {
            "text/plain": [
              "(100000, 100)"
            ]
          },
          "metadata": {
            "tags": []
          },
          "execution_count": 57
        }
      ]
    },
    {
      "metadata": {
        "id": "scWmUr1rNAGg",
        "colab_type": "code",
        "outputId": "4b8cfaab-d12e-411f-9efc-1496f5ba22e1",
        "colab": {
          "base_uri": "https://localhost:8080/",
          "height": 70
        }
      },
      "cell_type": "code",
      "source": [
        "classifier_mybag = train_classifier(BOW_train, y_train)\n",
        "\n",
        "# classifier_tfidf = train_classifier(X_train_tfidf, y_train)"
      ],
      "execution_count": 0,
      "outputs": [
        {
          "output_type": "stream",
          "text": [
            "/usr/local/lib/python3.6/dist-packages/sklearn/linear_model/logistic.py:433: FutureWarning: Default solver will be changed to 'lbfgs' in 0.22. Specify a solver to silence this warning.\n",
            "  FutureWarning)\n"
          ],
          "name": "stderr"
        }
      ]
    },
    {
      "metadata": {
        "id": "7sZ8geXpNAGq",
        "colab_type": "text"
      },
      "cell_type": "markdown",
      "source": [
        "Now you can create predictions for the data. You will need two types of predictions: labels and scores."
      ]
    },
    {
      "metadata": {
        "id": "jOW3ac_HuH-B",
        "colab_type": "code",
        "outputId": "c73a2e4f-baa3-46b6-bfb2-d8389807b686",
        "colab": {
          "base_uri": "https://localhost:8080/",
          "height": 34
        }
      },
      "cell_type": "code",
      "source": [
        "BOW_val.sum(axis = 1).min()"
      ],
      "execution_count": 0,
      "outputs": [
        {
          "output_type": "execute_result",
          "data": {
            "text/plain": [
              "0"
            ]
          },
          "metadata": {
            "tags": []
          },
          "execution_count": 62
        }
      ]
    },
    {
      "metadata": {
        "id": "jzVtlyFT2Gcz",
        "colab_type": "code",
        "outputId": "71d04e9d-0f65-4890-f6b9-8530cf841d07",
        "colab": {
          "base_uri": "https://localhost:8080/",
          "height": 50
        }
      },
      "cell_type": "code",
      "source": [
        "BOW_val.sum(axis = 1).shape\n",
        "\n",
        "BOW_val.sum(axis = 1).min()\n",
        "\n",
        "BOW_val.shape\n",
        "\n",
        "np.where(BOW_val[1,:].todense() == 1)"
      ],
      "execution_count": 0,
      "outputs": [
        {
          "output_type": "execute_result",
          "data": {
            "text/plain": [
              "(30000, 1)"
            ]
          },
          "metadata": {
            "tags": []
          },
          "execution_count": 88
        },
        {
          "output_type": "execute_result",
          "data": {
            "text/plain": [
              "1"
            ]
          },
          "metadata": {
            "tags": []
          },
          "execution_count": 88
        },
        {
          "output_type": "execute_result",
          "data": {
            "text/plain": [
              "(30000, 40314)"
            ]
          },
          "metadata": {
            "tags": []
          },
          "execution_count": 88
        },
        {
          "output_type": "execute_result",
          "data": {
            "text/plain": [
              "(array([0, 0, 0, 0, 0, 0, 0]),\n",
              " array([ 1979,  4581,  6490,  6662,  6684, 38142, 39321]))"
            ]
          },
          "metadata": {
            "tags": []
          },
          "execution_count": 88
        }
      ]
    },
    {
      "metadata": {
        "id": "-yt0MwAK4CrA",
        "colab_type": "code",
        "outputId": "b16d28b7-6a87-492e-a859-3a3d07e4c270",
        "colab": {
          "base_uri": "https://localhost:8080/",
          "height": 34
        }
      },
      "cell_type": "code",
      "source": [
        "type(classifier_mybag)"
      ],
      "execution_count": 0,
      "outputs": [
        {
          "output_type": "execute_result",
          "data": {
            "text/plain": [
              "NoneType"
            ]
          },
          "metadata": {
            "tags": []
          },
          "execution_count": 90
        }
      ]
    },
    {
      "metadata": {
        "id": "S2dAePKF2cJk",
        "colab_type": "code",
        "colab": {}
      },
      "cell_type": "code",
      "source": [
        "y_val_predicted_labels_mybag = classifier_mybag.predict(BOW_val)\n",
        "\n",
        "y_val_predicted_scores_mybag = classifier_mybag.decision_function(BOW_val)\n",
        "\n",
        "y_val_predicted_prob_mybag = classifier_mybag.predict_proba(BOW_val)"
      ],
      "execution_count": 0,
      "outputs": []
    },
    {
      "metadata": {
        "id": "MAnFX7nBPJoD",
        "colab_type": "code",
        "colab": {}
      },
      "cell_type": "code",
      "source": [
        "y_val_predicted_labels_mybag_revise = y_val_predicted_labels_mybag.copy()\n",
        "\n",
        "for i in range(len(y_val_predicted_labels_mybag_revise)):\n",
        "  \n",
        "  x = y_val_predicted_labels_mybag_revise[i]\n",
        "  \n",
        "  score = y_val_predicted_prob_mybag[i]\n",
        "  \n",
        "  if x.sum() == 0:\n",
        "    \n",
        "    ind = np.where(score == score.max())\n",
        "    \n",
        "    x[ind] = 1"
      ],
      "execution_count": 0,
      "outputs": []
    },
    {
      "metadata": {
        "id": "NN0Adl12SblU",
        "colab_type": "code",
        "outputId": "a00f697f-9969-43fb-f029-0489c59329eb",
        "colab": {
          "base_uri": "https://localhost:8080/",
          "height": 34
        }
      },
      "cell_type": "code",
      "source": [
        "y_val_predicted_labels_mybag_revise[0].sum()"
      ],
      "execution_count": 0,
      "outputs": [
        {
          "output_type": "execute_result",
          "data": {
            "text/plain": [
              "1"
            ]
          },
          "metadata": {
            "tags": []
          },
          "execution_count": 188
        }
      ]
    },
    {
      "metadata": {
        "id": "u8_6P4G4RuPL",
        "colab_type": "code",
        "colab": {}
      },
      "cell_type": "code",
      "source": [
        "  i = 0\n",
        "  \n",
        "  x = y_val_predicted_labels_mybag_revise[i]\n",
        "  \n",
        "  score = y_val_predicted_prob_mybag\n",
        "  \n",
        "  if x.sum() == 0:\n",
        "    \n",
        "    ind = np.where(score == score.max())\n",
        "    \n",
        "    x[ind] = 1"
      ],
      "execution_count": 0,
      "outputs": []
    },
    {
      "metadata": {
        "id": "Ssfu-cPMSBn2",
        "colab_type": "code",
        "outputId": "00e34e16-c915-4f8d-f38d-ae7bcd709473",
        "colab": {
          "base_uri": "https://localhost:8080/",
          "height": 34
        }
      },
      "cell_type": "code",
      "source": [
        ""
      ],
      "execution_count": 0,
      "outputs": [
        {
          "output_type": "execute_result",
          "data": {
            "text/plain": [
              "100"
            ]
          },
          "metadata": {
            "tags": []
          },
          "execution_count": 185
        }
      ]
    },
    {
      "metadata": {
        "id": "YZ6voaxURYko",
        "colab_type": "code",
        "outputId": "77ad5ccd-c944-49c4-8527-5d0d093572e8",
        "colab": {
          "base_uri": "https://localhost:8080/",
          "height": 34
        }
      },
      "cell_type": "code",
      "source": [
        "y_val_predicted_labels_mybag_revise[0].shape\n",
        "\n",
        "y_val_predicted_labels_mybag_revise[0].sum()"
      ],
      "execution_count": 0,
      "outputs": [
        {
          "output_type": "execute_result",
          "data": {
            "text/plain": [
              "(100,)"
            ]
          },
          "metadata": {
            "tags": []
          },
          "execution_count": 182
        },
        {
          "output_type": "execute_result",
          "data": {
            "text/plain": [
              "100"
            ]
          },
          "metadata": {
            "tags": []
          },
          "execution_count": 182
        }
      ]
    },
    {
      "metadata": {
        "id": "ZQiAm30FTD7E",
        "colab_type": "code",
        "outputId": "f4217453-683b-4a37-8030-a080eeaef6c2",
        "colab": {
          "base_uri": "https://localhost:8080/",
          "height": 34
        }
      },
      "cell_type": "code",
      "source": [
        "validation.iloc[5,:].title"
      ],
      "execution_count": 0,
      "outputs": [
        {
          "output_type": "execute_result",
          "data": {
            "text/plain": [
              "'library not found for.....?'"
            ]
          },
          "metadata": {
            "tags": []
          },
          "execution_count": 195
        }
      ]
    },
    {
      "metadata": {
        "id": "YLgqry24PF5B",
        "colab_type": "code",
        "outputId": "21a050ab-13d9-47b5-a3a0-b7a1851d6d67",
        "colab": {
          "base_uri": "https://localhost:8080/",
          "height": 935
        }
      },
      "cell_type": "code",
      "source": [
        "ind = 30\n",
        "\n",
        "pd.options.display.max_colwidth = 100\n",
        "\n",
        "pd.concat([validation[:ind], \n",
        "           pd.Series(mlb.inverse_transform(y_val_predicted_labels_mybag[:ind])),\n",
        "          pd.Series(mlb.inverse_transform(y_val_predicted_labels_mybag_revise[:ind]))],\n",
        "          axis = 1)"
      ],
      "execution_count": 0,
      "outputs": [
        {
          "output_type": "execute_result",
          "data": {
            "text/html": [
              "<div>\n",
              "<style scoped>\n",
              "    .dataframe tbody tr th:only-of-type {\n",
              "        vertical-align: middle;\n",
              "    }\n",
              "\n",
              "    .dataframe tbody tr th {\n",
              "        vertical-align: top;\n",
              "    }\n",
              "\n",
              "    .dataframe thead th {\n",
              "        text-align: right;\n",
              "    }\n",
              "</style>\n",
              "<table border=\"1\" class=\"dataframe\">\n",
              "  <thead>\n",
              "    <tr style=\"text-align: right;\">\n",
              "      <th></th>\n",
              "      <th>title</th>\n",
              "      <th>tags</th>\n",
              "      <th>0</th>\n",
              "      <th>1</th>\n",
              "    </tr>\n",
              "  </thead>\n",
              "  <tbody>\n",
              "    <tr>\n",
              "      <th>0</th>\n",
              "      <td>Why odbc_exec always fail?</td>\n",
              "      <td>[php, sql]</td>\n",
              "      <td>()</td>\n",
              "      <td>(c#,)</td>\n",
              "    </tr>\n",
              "    <tr>\n",
              "      <th>1</th>\n",
              "      <td>Access a base classes variable from within a child class</td>\n",
              "      <td>[javascript]</td>\n",
              "      <td>()</td>\n",
              "      <td>(class,)</td>\n",
              "    </tr>\n",
              "    <tr>\n",
              "      <th>2</th>\n",
              "      <td>Content-Type \"application/json\" not required in rails</td>\n",
              "      <td>[ruby-on-rails, ruby]</td>\n",
              "      <td>(ruby-on-rails,)</td>\n",
              "      <td>(ruby-on-rails,)</td>\n",
              "    </tr>\n",
              "    <tr>\n",
              "      <th>3</th>\n",
              "      <td>Sessions in Sinatra: Used to Pass Variable</td>\n",
              "      <td>[ruby, session]</td>\n",
              "      <td>(ruby,)</td>\n",
              "      <td>(ruby,)</td>\n",
              "    </tr>\n",
              "    <tr>\n",
              "      <th>4</th>\n",
              "      <td>Getting error - type \"json\" does not exist - in Postgresql during rake db migrate</td>\n",
              "      <td>[ruby-on-rails, ruby, json]</td>\n",
              "      <td>(json, ruby-on-rails)</td>\n",
              "      <td>(json, ruby-on-rails)</td>\n",
              "    </tr>\n",
              "    <tr>\n",
              "      <th>5</th>\n",
              "      <td>library not found for.....?</td>\n",
              "      <td>[c++, iphone, ios, xcode]</td>\n",
              "      <td>()</td>\n",
              "      <td>(c#,)</td>\n",
              "    </tr>\n",
              "    <tr>\n",
              "      <th>6</th>\n",
              "      <td>.csproj File - Programmatic adding/deleting files</td>\n",
              "      <td>[c#]</td>\n",
              "      <td>()</td>\n",
              "      <td>(c#,)</td>\n",
              "    </tr>\n",
              "    <tr>\n",
              "      <th>7</th>\n",
              "      <td>TypeError: makedirs() got an unexpected keyword argument 'exists_ok'</td>\n",
              "      <td>[python, django]</td>\n",
              "      <td>(python,)</td>\n",
              "      <td>(python,)</td>\n",
              "    </tr>\n",
              "    <tr>\n",
              "      <th>8</th>\n",
              "      <td>How to Pan a div using JQuery</td>\n",
              "      <td>[javascript, jquery, html]</td>\n",
              "      <td>(javascript, jquery)</td>\n",
              "      <td>(javascript, jquery)</td>\n",
              "    </tr>\n",
              "    <tr>\n",
              "      <th>9</th>\n",
              "      <td>Hibernate intermediate/advanced tutorials</td>\n",
              "      <td>[java, hibernate]</td>\n",
              "      <td>(hibernate, java)</td>\n",
              "      <td>(hibernate, java)</td>\n",
              "    </tr>\n",
              "    <tr>\n",
              "      <th>10</th>\n",
              "      <td>C# properties and how to access their values from another function/class?</td>\n",
              "      <td>[c#, .net, class]</td>\n",
              "      <td>(c#,)</td>\n",
              "      <td>(c#,)</td>\n",
              "    </tr>\n",
              "    <tr>\n",
              "      <th>11</th>\n",
              "      <td>How can I use databinding for 3D elements like Visual3D or UIElement3D</td>\n",
              "      <td>[c#, wpf]</td>\n",
              "      <td>()</td>\n",
              "      <td>(c#,)</td>\n",
              "    </tr>\n",
              "    <tr>\n",
              "      <th>12</th>\n",
              "      <td>How do I check if a video exists on YouTube, using PHP?</td>\n",
              "      <td>[php]</td>\n",
              "      <td>(php,)</td>\n",
              "      <td>(php,)</td>\n",
              "    </tr>\n",
              "    <tr>\n",
              "      <th>13</th>\n",
              "      <td>How to handle mouse dragging event in JFreeChart</td>\n",
              "      <td>[java]</td>\n",
              "      <td>()</td>\n",
              "      <td>(java,)</td>\n",
              "    </tr>\n",
              "    <tr>\n",
              "      <th>14</th>\n",
              "      <td>Dynamic data matrix WPF</td>\n",
              "      <td>[c#, wpf]</td>\n",
              "      <td>(c#, wpf)</td>\n",
              "      <td>(c#, wpf)</td>\n",
              "    </tr>\n",
              "    <tr>\n",
              "      <th>15</th>\n",
              "      <td>WPF button with external background image</td>\n",
              "      <td>[c#, wpf]</td>\n",
              "      <td>(c#, wpf)</td>\n",
              "      <td>(c#, wpf)</td>\n",
              "    </tr>\n",
              "    <tr>\n",
              "      <th>16</th>\n",
              "      <td>isDigit() for rational numbers?</td>\n",
              "      <td>[python, string]</td>\n",
              "      <td>()</td>\n",
              "      <td>(java,)</td>\n",
              "    </tr>\n",
              "    <tr>\n",
              "      <th>17</th>\n",
              "      <td>Make clicked tab active in Bootstrap</td>\n",
              "      <td>[django, twitter-bootstrap]</td>\n",
              "      <td>(javascript, twitter-bootstrap)</td>\n",
              "      <td>(javascript, twitter-bootstrap)</td>\n",
              "    </tr>\n",
              "    <tr>\n",
              "      <th>18</th>\n",
              "      <td>Unable to load class 'com.google.gson.JsonObject'</td>\n",
              "      <td>[java, android]</td>\n",
              "      <td>()</td>\n",
              "      <td>(java,)</td>\n",
              "    </tr>\n",
              "    <tr>\n",
              "      <th>19</th>\n",
              "      <td>Determine if a string is a valid float value</td>\n",
              "      <td>[ruby-on-rails, ruby]</td>\n",
              "      <td>()</td>\n",
              "      <td>(c#,)</td>\n",
              "    </tr>\n",
              "    <tr>\n",
              "      <th>20</th>\n",
              "      <td>PHP equivalent of JavaScript getTime()</td>\n",
              "      <td>[javascript, php, datetime]</td>\n",
              "      <td>(javascript, php)</td>\n",
              "      <td>(javascript, php)</td>\n",
              "    </tr>\n",
              "    <tr>\n",
              "      <th>21</th>\n",
              "      <td>Unknown python expression filename=r'/path/to/file'</td>\n",
              "      <td>[python, string]</td>\n",
              "      <td>(python,)</td>\n",
              "      <td>(python,)</td>\n",
              "    </tr>\n",
              "    <tr>\n",
              "      <th>22</th>\n",
              "      <td>Find Index of the First Uppercase character</td>\n",
              "      <td>[c#, string, linq]</td>\n",
              "      <td>()</td>\n",
              "      <td>(c#,)</td>\n",
              "    </tr>\n",
              "    <tr>\n",
              "      <th>23</th>\n",
              "      <td>Why does Android WebView.loadDataWithBaseUrl() fail to render the JavaScript?</td>\n",
              "      <td>[javascript, android]</td>\n",
              "      <td>(android, javascript)</td>\n",
              "      <td>(android, javascript)</td>\n",
              "    </tr>\n",
              "    <tr>\n",
              "      <th>24</th>\n",
              "      <td>Removing lines within filled.contour legend</td>\n",
              "      <td>[r]</td>\n",
              "      <td>()</td>\n",
              "      <td>(java,)</td>\n",
              "    </tr>\n",
              "    <tr>\n",
              "      <th>25</th>\n",
              "      <td>How to stop/disable internet access with Java?</td>\n",
              "      <td>[java]</td>\n",
              "      <td>(java,)</td>\n",
              "      <td>(java,)</td>\n",
              "    </tr>\n",
              "    <tr>\n",
              "      <th>26</th>\n",
              "      <td>How to translate function names in the Django admin?</td>\n",
              "      <td>[django]</td>\n",
              "      <td>(django,)</td>\n",
              "      <td>(django,)</td>\n",
              "    </tr>\n",
              "    <tr>\n",
              "      <th>27</th>\n",
              "      <td>Oracle JDBC Euro character</td>\n",
              "      <td>[java, database]</td>\n",
              "      <td>(java,)</td>\n",
              "      <td>(java,)</td>\n",
              "    </tr>\n",
              "    <tr>\n",
              "      <th>28</th>\n",
              "      <td>RSpec controller tests of PUT update action on nested resource</td>\n",
              "      <td>[ruby-on-rails]</td>\n",
              "      <td>(ruby-on-rails,)</td>\n",
              "      <td>(ruby-on-rails,)</td>\n",
              "    </tr>\n",
              "    <tr>\n",
              "      <th>29</th>\n",
              "      <td>Java: ObjectInputStream</td>\n",
              "      <td>[java]</td>\n",
              "      <td>(java,)</td>\n",
              "      <td>(java,)</td>\n",
              "    </tr>\n",
              "  </tbody>\n",
              "</table>\n",
              "</div>"
            ],
            "text/plain": [
              "                                                                                title  \\\n",
              "0                                                          Why odbc_exec always fail?   \n",
              "1                            Access a base classes variable from within a child class   \n",
              "2                               Content-Type \"application/json\" not required in rails   \n",
              "3                                          Sessions in Sinatra: Used to Pass Variable   \n",
              "4   Getting error - type \"json\" does not exist - in Postgresql during rake db migrate   \n",
              "5                                                         library not found for.....?   \n",
              "6                                   .csproj File - Programmatic adding/deleting files   \n",
              "7                TypeError: makedirs() got an unexpected keyword argument 'exists_ok'   \n",
              "8                                                       How to Pan a div using JQuery   \n",
              "9                                           Hibernate intermediate/advanced tutorials   \n",
              "10          C# properties and how to access their values from another function/class?   \n",
              "11             How can I use databinding for 3D elements like Visual3D or UIElement3D   \n",
              "12                            How do I check if a video exists on YouTube, using PHP?   \n",
              "13                                   How to handle mouse dragging event in JFreeChart   \n",
              "14                                                            Dynamic data matrix WPF   \n",
              "15                                          WPF button with external background image   \n",
              "16                                                    isDigit() for rational numbers?   \n",
              "17                                               Make clicked tab active in Bootstrap   \n",
              "18                                  Unable to load class 'com.google.gson.JsonObject'   \n",
              "19                                       Determine if a string is a valid float value   \n",
              "20                                             PHP equivalent of JavaScript getTime()   \n",
              "21                                Unknown python expression filename=r'/path/to/file'   \n",
              "22                                        Find Index of the First Uppercase character   \n",
              "23      Why does Android WebView.loadDataWithBaseUrl() fail to render the JavaScript?   \n",
              "24                                        Removing lines within filled.contour legend   \n",
              "25                                     How to stop/disable internet access with Java?   \n",
              "26                               How to translate function names in the Django admin?   \n",
              "27                                                         Oracle JDBC Euro character   \n",
              "28                     RSpec controller tests of PUT update action on nested resource   \n",
              "29                                                            Java: ObjectInputStream   \n",
              "\n",
              "                           tags                                0  \\\n",
              "0                    [php, sql]                               ()   \n",
              "1                  [javascript]                               ()   \n",
              "2         [ruby-on-rails, ruby]                 (ruby-on-rails,)   \n",
              "3               [ruby, session]                          (ruby,)   \n",
              "4   [ruby-on-rails, ruby, json]            (json, ruby-on-rails)   \n",
              "5     [c++, iphone, ios, xcode]                               ()   \n",
              "6                          [c#]                               ()   \n",
              "7              [python, django]                        (python,)   \n",
              "8    [javascript, jquery, html]             (javascript, jquery)   \n",
              "9             [java, hibernate]                (hibernate, java)   \n",
              "10            [c#, .net, class]                            (c#,)   \n",
              "11                    [c#, wpf]                               ()   \n",
              "12                        [php]                           (php,)   \n",
              "13                       [java]                               ()   \n",
              "14                    [c#, wpf]                        (c#, wpf)   \n",
              "15                    [c#, wpf]                        (c#, wpf)   \n",
              "16             [python, string]                               ()   \n",
              "17  [django, twitter-bootstrap]  (javascript, twitter-bootstrap)   \n",
              "18              [java, android]                               ()   \n",
              "19        [ruby-on-rails, ruby]                               ()   \n",
              "20  [javascript, php, datetime]                (javascript, php)   \n",
              "21             [python, string]                        (python,)   \n",
              "22           [c#, string, linq]                               ()   \n",
              "23        [javascript, android]            (android, javascript)   \n",
              "24                          [r]                               ()   \n",
              "25                       [java]                          (java,)   \n",
              "26                     [django]                        (django,)   \n",
              "27             [java, database]                          (java,)   \n",
              "28              [ruby-on-rails]                 (ruby-on-rails,)   \n",
              "29                       [java]                          (java,)   \n",
              "\n",
              "                                  1  \n",
              "0                             (c#,)  \n",
              "1                          (class,)  \n",
              "2                  (ruby-on-rails,)  \n",
              "3                           (ruby,)  \n",
              "4             (json, ruby-on-rails)  \n",
              "5                             (c#,)  \n",
              "6                             (c#,)  \n",
              "7                         (python,)  \n",
              "8              (javascript, jquery)  \n",
              "9                 (hibernate, java)  \n",
              "10                            (c#,)  \n",
              "11                            (c#,)  \n",
              "12                           (php,)  \n",
              "13                          (java,)  \n",
              "14                        (c#, wpf)  \n",
              "15                        (c#, wpf)  \n",
              "16                          (java,)  \n",
              "17  (javascript, twitter-bootstrap)  \n",
              "18                          (java,)  \n",
              "19                            (c#,)  \n",
              "20                (javascript, php)  \n",
              "21                        (python,)  \n",
              "22                            (c#,)  \n",
              "23            (android, javascript)  \n",
              "24                          (java,)  \n",
              "25                          (java,)  \n",
              "26                        (django,)  \n",
              "27                          (java,)  \n",
              "28                 (ruby-on-rails,)  \n",
              "29                          (java,)  "
            ]
          },
          "metadata": {
            "tags": []
          },
          "execution_count": 198
        }
      ]
    },
    {
      "metadata": {
        "id": "vE4bc1owEHwQ",
        "colab_type": "code",
        "outputId": "e8f388d1-e309-44c2-9f8b-6ebecf5ff754",
        "colab": {
          "base_uri": "https://localhost:8080/",
          "height": 34
        }
      },
      "cell_type": "code",
      "source": [
        "np.where(y_val_predicted_labels_mybag.sum(axis = 1) > 0)"
      ],
      "execution_count": 0,
      "outputs": [
        {
          "output_type": "execute_result",
          "data": {
            "text/plain": [
              "(array([    2,     3,     4, ..., 29995, 29996, 29998]),)"
            ]
          },
          "metadata": {
            "tags": []
          },
          "execution_count": 118
        }
      ]
    },
    {
      "metadata": {
        "id": "dqcUFe2FGfN9",
        "colab_type": "code",
        "outputId": "3fff9a11-7e34-49ac-e547-dda5d1274d42",
        "colab": {
          "base_uri": "https://localhost:8080/",
          "height": 34
        }
      },
      "cell_type": "code",
      "source": [
        "validation.tags[0]\n",
        "\n",
        "validation.tags[1]\n",
        "\n",
        "validation.tags[2]"
      ],
      "execution_count": 0,
      "outputs": [
        {
          "output_type": "execute_result",
          "data": {
            "text/plain": [
              "['php', 'sql']"
            ]
          },
          "metadata": {
            "tags": []
          },
          "execution_count": 122
        },
        {
          "output_type": "execute_result",
          "data": {
            "text/plain": [
              "['javascript']"
            ]
          },
          "metadata": {
            "tags": []
          },
          "execution_count": 122
        },
        {
          "output_type": "execute_result",
          "data": {
            "text/plain": [
              "['ruby-on-rails', 'ruby']"
            ]
          },
          "metadata": {
            "tags": []
          },
          "execution_count": 122
        }
      ]
    },
    {
      "metadata": {
        "id": "5VStO7i95Mfj",
        "colab_type": "code",
        "outputId": "8617d7d9-702e-4c97-dac4-ee4dc912f34a",
        "colab": {
          "base_uri": "https://localhost:8080/",
          "height": 692
        }
      },
      "cell_type": "code",
      "source": [
        "ind = 0\n",
        "\n",
        "np.where(y_val[ind] == 1)\n",
        "\n",
        "np.where(y_val[ind] == np.max(y_val[ind]))\n",
        "\n",
        "np.where(y_val_predicted_labels_mybag[ind] > 0)\n",
        "\n",
        "y_val_predicted_scores_mybag[ind]\n",
        "\n",
        "y_val_predicted_prob_mybag[ind]"
      ],
      "execution_count": 0,
      "outputs": [
        {
          "output_type": "execute_result",
          "data": {
            "text/plain": [
              "(array([60, 79]),)"
            ]
          },
          "metadata": {
            "tags": []
          },
          "execution_count": 127
        },
        {
          "output_type": "execute_result",
          "data": {
            "text/plain": [
              "(array([60, 79]),)"
            ]
          },
          "metadata": {
            "tags": []
          },
          "execution_count": 127
        },
        {
          "output_type": "execute_result",
          "data": {
            "text/plain": [
              "(array([], dtype=int64),)"
            ]
          },
          "metadata": {
            "tags": []
          },
          "execution_count": 127
        },
        {
          "output_type": "execute_result",
          "data": {
            "text/plain": [
              "array([-3.71433998, -5.41500174, -5.9087868 , -3.66715473, -5.08714229,\n",
              "       -6.21922424, -5.69322619, -3.02050159, -5.10976064, -3.77603978,\n",
              "       -1.40428296, -3.03438931, -6.72585617, -5.32375851, -6.08137548,\n",
              "       -5.35051278, -7.35145568, -4.96844721, -6.5256824 , -6.08388806,\n",
              "       -5.31804745, -5.82663018, -5.18897035, -5.56469178, -7.93708856,\n",
              "       -6.89650549, -5.87657399, -6.11200187, -7.13297366, -6.64571331,\n",
              "       -7.25596942, -5.38076077, -4.21384017, -4.5839305 , -5.484181  ,\n",
              "       -3.59758327, -3.0108355 , -1.63223876, -3.1033512 , -4.17534711,\n",
              "       -5.22057712, -6.11961208, -6.64047162, -5.77398403, -4.53681998,\n",
              "       -6.00442354, -6.89028787, -6.40407498, -6.50608521, -4.8041737 ,\n",
              "       -4.90567766, -5.92648413, -5.79635804, -3.30246621, -5.96141754,\n",
              "       -5.34938369, -5.72538055, -6.60975153, -6.39096926, -5.3150334 ,\n",
              "       -1.69596372, -6.47313834, -3.11636651, -6.00059949, -6.00617924,\n",
              "       -5.13441011, -5.12067613, -6.02984341, -6.31970444, -3.90300066,\n",
              "       -3.45090231, -4.89537907, -7.06786586, -5.05824135, -7.46016842,\n",
              "       -6.79954644, -6.89887311, -5.4773142 , -6.47970113, -4.46581641,\n",
              "       -6.13336571, -5.20738819, -4.55934011, -4.75149579, -7.06728714,\n",
              "       -5.66235675, -6.17813701, -8.03186127, -5.22798342, -5.80714197,\n",
              "       -5.67428628, -6.8186086 , -6.22596814, -4.65204058, -4.49353477,\n",
              "       -6.78381154, -4.43527546, -6.56645687, -4.12834851, -5.93353931])"
            ]
          },
          "metadata": {
            "tags": []
          },
          "execution_count": 127
        },
        {
          "output_type": "execute_result",
          "data": {
            "text/plain": [
              "array([0.02379168, 0.00442962, 0.00270813, 0.02491257, 0.00613774,\n",
              "       0.00198683, 0.0033574 , 0.04650823, 0.00600129, 0.0224    ,\n",
              "       0.19713735, 0.04589624, 0.00119806, 0.00485075, 0.00227982,\n",
              "       0.0047233 , 0.00064125, 0.00690591, 0.00146317, 0.00227411,\n",
              "       0.0048784 , 0.00293933, 0.00554681, 0.00381614, 0.00035712,\n",
              "       0.00101029, 0.00279653, 0.00221121, 0.00079771, 0.00129789,\n",
              "       0.00070545, 0.00458322, 0.01457392, 0.01011138, 0.00413477,\n",
              "       0.02665963, 0.04693875, 0.1635239 , 0.04296923, 0.0151372 ,\n",
              "       0.00537516, 0.00219448, 0.00130471, 0.00309773, 0.01059397,\n",
              "       0.00246174, 0.00101659, 0.00165207, 0.00149209, 0.00812885,\n",
              "       0.00735   , 0.00266075, 0.0030294 , 0.03548668, 0.00256964,\n",
              "       0.00472861, 0.0032515 , 0.00134535, 0.00167382, 0.00489305,\n",
              "       0.15499316, 0.00154199, 0.04243718, 0.00247114, 0.00245743,\n",
              "       0.00585603, 0.00593653, 0.0024001 , 0.00179724, 0.01978204,\n",
              "       0.03074196, 0.00742552, 0.00085132, 0.00631658, 0.00057523,\n",
              "       0.00111304, 0.0010079 , 0.00416314, 0.00153192, 0.01136467,\n",
              "       0.00216457, 0.00544613, 0.0103605 , 0.00856477, 0.00085182,\n",
              "       0.00346229, 0.00206999, 0.00032484, 0.00533571, 0.002997  ,\n",
              "       0.00342137, 0.00109205, 0.00197351, 0.00945192, 0.01105742,\n",
              "       0.00113067, 0.01171298, 0.0014048 , 0.01585406, 0.00264209])"
            ]
          },
          "metadata": {
            "tags": []
          },
          "execution_count": 127
        }
      ]
    },
    {
      "metadata": {
        "id": "MF1CoNfVNAGs",
        "colab_type": "code",
        "outputId": "8e7643aa-862f-4d27-c0f6-b10092952fad",
        "colab": {
          "base_uri": "https://localhost:8080/",
          "height": 229
        }
      },
      "cell_type": "code",
      "source": [
        "y_val_predicted_labels_tfidf = classifier_tfidf.predict(X_val_tfidf)\n",
        "y_val_predicted_scores_tfidf = classifier_tfidf.decision_function(X_val_tfidf)"
      ],
      "execution_count": 0,
      "outputs": [
        {
          "output_type": "error",
          "ename": "AttributeError",
          "evalue": "ignored",
          "traceback": [
            "\u001b[0;31m---------------------------------------------------------------------------\u001b[0m",
            "\u001b[0;31mAttributeError\u001b[0m                            Traceback (most recent call last)",
            "\u001b[0;32m<ipython-input-255-0ef82932a925>\u001b[0m in \u001b[0;36m<module>\u001b[0;34m()\u001b[0m\n\u001b[0;32m----> 1\u001b[0;31m \u001b[0my_val_predicted_labels_mybag\u001b[0m \u001b[0;34m=\u001b[0m \u001b[0mclassifier_mybag\u001b[0m\u001b[0;34m.\u001b[0m\u001b[0mpredict\u001b[0m\u001b[0;34m(\u001b[0m\u001b[0mX_val_mybag\u001b[0m\u001b[0;34m)\u001b[0m\u001b[0;34m\u001b[0m\u001b[0;34m\u001b[0m\u001b[0m\n\u001b[0m\u001b[1;32m      2\u001b[0m \u001b[0my_val_predicted_scores_mybag\u001b[0m \u001b[0;34m=\u001b[0m \u001b[0mclassifier_mybag\u001b[0m\u001b[0;34m.\u001b[0m\u001b[0mdecision_function\u001b[0m\u001b[0;34m(\u001b[0m\u001b[0mX_val_mybag\u001b[0m\u001b[0;34m)\u001b[0m\u001b[0;34m\u001b[0m\u001b[0;34m\u001b[0m\u001b[0m\n\u001b[1;32m      3\u001b[0m \u001b[0;34m\u001b[0m\u001b[0m\n\u001b[1;32m      4\u001b[0m \u001b[0my_val_predicted_labels_tfidf\u001b[0m \u001b[0;34m=\u001b[0m \u001b[0mclassifier_tfidf\u001b[0m\u001b[0;34m.\u001b[0m\u001b[0mpredict\u001b[0m\u001b[0;34m(\u001b[0m\u001b[0mX_val_tfidf\u001b[0m\u001b[0;34m)\u001b[0m\u001b[0;34m\u001b[0m\u001b[0;34m\u001b[0m\u001b[0m\n\u001b[1;32m      5\u001b[0m \u001b[0my_val_predicted_scores_tfidf\u001b[0m \u001b[0;34m=\u001b[0m \u001b[0mclassifier_tfidf\u001b[0m\u001b[0;34m.\u001b[0m\u001b[0mdecision_function\u001b[0m\u001b[0;34m(\u001b[0m\u001b[0mX_val_tfidf\u001b[0m\u001b[0;34m)\u001b[0m\u001b[0;34m\u001b[0m\u001b[0;34m\u001b[0m\u001b[0m\n",
            "\u001b[0;31mAttributeError\u001b[0m: 'NoneType' object has no attribute 'predict'"
          ]
        }
      ]
    },
    {
      "metadata": {
        "id": "p4uNGY2YNAGy",
        "colab_type": "text"
      },
      "cell_type": "markdown",
      "source": [
        "Now take a look at how classifier, which uses TF-IDF, works for a few examples:"
      ]
    },
    {
      "metadata": {
        "id": "CLfqfLAjNAGz",
        "colab_type": "code",
        "colab": {}
      },
      "cell_type": "code",
      "source": [
        "y_val_pred_inversed = mlb.inverse_transform(y_val_predicted_labels_tfidf)\n",
        "y_val_inversed = mlb.inverse_transform(y_val)\n",
        "for i in range(3):\n",
        "    print('Title:\\t{}\\nTrue labels:\\t{}\\nPredicted labels:\\t{}\\n\\n'.format(\n",
        "        X_val[i],\n",
        "        ','.join(y_val_inversed[i]),\n",
        "        ','.join(y_val_pred_inversed[i])\n",
        "    ))"
      ],
      "execution_count": 0,
      "outputs": []
    },
    {
      "metadata": {
        "id": "Evc2rnrjNAG1",
        "colab_type": "text"
      },
      "cell_type": "markdown",
      "source": [
        "Now, we would need to compare the results of different predictions, e.g. to see whether TF-IDF transformation helps or to try different regularization techniques in logistic regression. For all these experiments, we need to setup evaluation procedure. "
      ]
    },
    {
      "metadata": {
        "id": "oW6HbxYlNAG2",
        "colab_type": "text"
      },
      "cell_type": "markdown",
      "source": [
        "### Evaluation\n",
        "\n",
        "To evaluate the results we will use several classification metrics:\n",
        " - [Accuracy](http://scikit-learn.org/stable/modules/generated/sklearn.metrics.accuracy_score.html)\n",
        " - [F1-score](http://scikit-learn.org/stable/modules/generated/sklearn.metrics.f1_score.html)\n",
        " - [Area under ROC-curve](http://scikit-learn.org/stable/modules/generated/sklearn.metrics.roc_auc_score.html)\n",
        " - [Area under precision-recall curve](http://scikit-learn.org/stable/modules/generated/sklearn.metrics.average_precision_score.html#sklearn.metrics.average_precision_score) \n",
        " \n",
        "Make sure you are familiar with all of them. How would you expect the things work for the multi-label scenario? Read about micro/macro/weighted averaging following the sklearn links provided above."
      ]
    },
    {
      "metadata": {
        "id": "x_ZxBcgsNAG2",
        "colab_type": "code",
        "colab": {}
      },
      "cell_type": "code",
      "source": [
        "from sklearn.metrics import accuracy_score\n",
        "from sklearn.metrics import f1_score\n",
        "from sklearn.metrics import roc_auc_score \n",
        "from sklearn.metrics import average_precision_score\n",
        "from sklearn.metrics import recall_score"
      ],
      "execution_count": 0,
      "outputs": []
    },
    {
      "metadata": {
        "id": "dXCjr5fFNAG5",
        "colab_type": "text"
      },
      "cell_type": "markdown",
      "source": [
        "Implement the function *print_evaluation_scores* which calculates and prints to stdout:\n",
        " - *accuracy*\n",
        " - *F1-score macro/micro/weighted*\n",
        " - *Precision macro/micro/weighted*"
      ]
    },
    {
      "metadata": {
        "id": "5OwwwnqgNAG6",
        "colab_type": "code",
        "colab": {}
      },
      "cell_type": "code",
      "source": [
        "def print_evaluation_scores(y_val, predicted):\n",
        "    \n",
        "    ######################################\n",
        "    ######### YOUR CODE HERE #############\n",
        "    ######################################"
      ],
      "execution_count": 0,
      "outputs": []
    },
    {
      "metadata": {
        "id": "p0FMt689H0LH",
        "colab_type": "code",
        "outputId": "d988eb73-deed-473d-fea3-8f19ecb3927c",
        "colab": {
          "base_uri": "https://localhost:8080/",
          "height": 437
        }
      },
      "cell_type": "code",
      "source": [
        "y_val_predicted_labels_mybag[:5]"
      ],
      "execution_count": 0,
      "outputs": [
        {
          "output_type": "execute_result",
          "data": {
            "text/plain": [
              "array([[0, 0, 0, 0, 0, 0, 0, 0, 0, 0, 0, 0, 0, 0, 0, 0, 0, 0, 0, 0, 0, 0,\n",
              "        0, 0, 0, 0, 0, 0, 0, 0, 0, 0, 0, 0, 0, 0, 0, 0, 0, 0, 0, 0, 0, 0,\n",
              "        0, 0, 0, 0, 0, 0, 0, 0, 0, 0, 0, 0, 0, 0, 0, 0, 0, 0, 0, 0, 0, 0,\n",
              "        0, 0, 0, 0, 0, 0, 0, 0, 0, 0, 0, 0, 0, 0, 0, 0, 0, 0, 0, 0, 0, 0,\n",
              "        0, 0, 0, 0, 0, 0, 0, 0, 0, 0, 0, 0],\n",
              "       [0, 0, 0, 0, 0, 0, 0, 0, 0, 0, 0, 0, 0, 0, 0, 0, 0, 0, 0, 0, 0, 0,\n",
              "        0, 0, 0, 0, 0, 0, 0, 0, 0, 0, 0, 0, 0, 0, 0, 0, 0, 0, 0, 0, 0, 0,\n",
              "        0, 0, 0, 0, 0, 0, 0, 0, 0, 0, 0, 0, 0, 0, 0, 0, 0, 0, 0, 0, 0, 0,\n",
              "        0, 0, 0, 0, 0, 0, 0, 0, 0, 0, 0, 0, 0, 0, 0, 0, 0, 0, 0, 0, 0, 0,\n",
              "        0, 0, 0, 0, 0, 0, 0, 0, 0, 0, 0, 0],\n",
              "       [0, 0, 0, 0, 0, 0, 0, 0, 0, 0, 0, 0, 0, 0, 0, 0, 0, 0, 0, 0, 0, 0,\n",
              "        0, 0, 0, 0, 0, 0, 0, 0, 0, 0, 0, 0, 0, 0, 0, 0, 0, 0, 0, 0, 0, 0,\n",
              "        0, 0, 0, 0, 0, 0, 0, 0, 0, 0, 0, 0, 0, 0, 0, 0, 0, 0, 0, 0, 0, 0,\n",
              "        0, 0, 0, 0, 1, 0, 0, 0, 0, 0, 0, 0, 0, 0, 0, 0, 0, 0, 0, 0, 0, 0,\n",
              "        0, 0, 0, 0, 0, 0, 0, 0, 0, 0, 0, 0],\n",
              "       [0, 0, 0, 0, 0, 0, 0, 0, 0, 0, 0, 0, 0, 0, 0, 0, 0, 0, 0, 0, 0, 0,\n",
              "        0, 0, 0, 0, 0, 0, 0, 0, 0, 0, 0, 0, 0, 0, 0, 0, 0, 0, 0, 0, 0, 0,\n",
              "        0, 0, 0, 0, 0, 0, 0, 0, 0, 0, 0, 0, 0, 0, 0, 0, 0, 0, 0, 0, 0, 0,\n",
              "        0, 0, 0, 1, 0, 0, 0, 0, 0, 0, 0, 0, 0, 0, 0, 0, 0, 0, 0, 0, 0, 0,\n",
              "        0, 0, 0, 0, 0, 0, 0, 0, 0, 0, 0, 0],\n",
              "       [0, 0, 0, 0, 0, 0, 0, 0, 0, 0, 0, 0, 0, 0, 0, 0, 0, 0, 0, 0, 0, 0,\n",
              "        0, 0, 0, 0, 0, 0, 0, 0, 0, 0, 0, 0, 0, 0, 0, 0, 0, 0, 1, 0, 0, 0,\n",
              "        0, 0, 0, 0, 0, 0, 0, 0, 0, 0, 0, 0, 0, 0, 0, 0, 0, 0, 0, 0, 0, 0,\n",
              "        0, 0, 0, 0, 1, 0, 0, 0, 0, 0, 0, 0, 0, 0, 0, 0, 0, 0, 0, 0, 0, 0,\n",
              "        0, 0, 0, 0, 0, 0, 0, 0, 0, 0, 0, 0]])"
            ]
          },
          "metadata": {
            "tags": []
          },
          "execution_count": 131
        }
      ]
    },
    {
      "metadata": {
        "id": "ETKEXlFFIS7m",
        "colab_type": "code",
        "outputId": "0529fd5c-dc0c-42e6-d0ab-06006c2bb67a",
        "colab": {
          "base_uri": "https://localhost:8080/",
          "height": 16834
        }
      },
      "cell_type": "code",
      "source": [
        "[np.where(i) for i in y_val]"
      ],
      "execution_count": 0,
      "outputs": [
        {
          "output_type": "execute_result",
          "data": {
            "text/plain": [
              "[(array([60, 79]),),\n",
              " (array([38]),),\n",
              " (array([69, 70]),),\n",
              " (array([69, 74]),),\n",
              " (array([40, 69, 70]),),\n",
              " (array([11, 35, 36, 98]),),\n",
              " (array([10]),),\n",
              " (array([20, 62]),),\n",
              " (array([32, 38, 39]),),\n",
              " (array([31, 37]),),\n",
              " (array([ 0, 10, 12]),),\n",
              " (array([10, 96]),),\n",
              " (array([60]),),\n",
              " (array([37]),),\n",
              " (array([10, 96]),),\n",
              " (array([10, 96]),),\n",
              " (array([62, 81]),),\n",
              " (array([20, 84]),),\n",
              " (array([ 3, 37]),),\n",
              " (array([69, 70]),),\n",
              " (array([19, 38, 60]),),\n",
              " (array([62, 81]),),\n",
              " (array([10, 43, 81]),),\n",
              " (array([ 3, 38]),),\n",
              " (array([66]),),\n",
              " (array([37]),),\n",
              " (array([20]),),\n",
              " (array([17, 37]),),\n",
              " (array([70]),),\n",
              " (array([37]),),\n",
              " (array([ 1, 38, 39]),),\n",
              " (array([ 3, 37]),),\n",
              " (array([11]),),\n",
              " (array([ 0, 10, 32]),),\n",
              " (array([ 9, 61]),),\n",
              " (array([60]),),\n",
              " (array([16, 66]),),\n",
              " (array([37, 79]),),\n",
              " (array([10, 43]),),\n",
              " (array([32, 38]),),\n",
              " (array([60]),),\n",
              " (array([35, 36, 53]),),\n",
              " (array([60]),),\n",
              " (array([ 0, 10, 43]),),\n",
              " (array([10, 49, 75]),),\n",
              " (array([38]),),\n",
              " (array([14, 60]),),\n",
              " (array([37]),),\n",
              " (array([39, 60, 95]),),\n",
              " (array([9]),),\n",
              " (array([32, 60]),),\n",
              " (array([37]),),\n",
              " (array([ 0, 10, 94]),),\n",
              " (array([60]),),\n",
              " (array([37, 80]),),\n",
              " (array([20, 62]),),\n",
              " (array([62]),),\n",
              " (array([11]),),\n",
              " (array([37, 73]),),\n",
              " (array([70]),),\n",
              " (array([70, 71]),),\n",
              " (array([15, 38, 39]),),\n",
              " (array([ 3, 62]),),\n",
              " (array([10]),),\n",
              " (array([31, 37, 50, 79]),),\n",
              " (array([11, 54]),),\n",
              " (array([35, 82]),),\n",
              " (array([11]),),\n",
              " (array([38, 39]),),\n",
              " (array([10, 43, 96]),),\n",
              " (array([57, 62]),),\n",
              " (array([32, 38]),),\n",
              " (array([ 4, 15, 32, 38]),),\n",
              " (array([34, 70]),),\n",
              " (array([22, 37]),),\n",
              " (array([50, 60]),),\n",
              " (array([17, 38, 50]),),\n",
              " (array([ 7, 10, 94]),),\n",
              " (array([37]),),\n",
              " (array([37]),),\n",
              " (array([52, 62, 63]),),\n",
              " (array([ 3, 37]),),\n",
              " (array([60]),),\n",
              " (array([ 1, 38, 39, 60]),),\n",
              " (array([66]),),\n",
              " (array([15, 30, 32, 38, 39]),),\n",
              " (array([24, 37]),),\n",
              " (array([20, 50, 62]),),\n",
              " (array([37]),),\n",
              " (array([37]),),\n",
              " (array([ 5, 60]),),\n",
              " (array([ 6, 76, 82]),),\n",
              " (array([20, 62]),),\n",
              " (array([62, 93]),),\n",
              " (array([37]),),\n",
              " (array([11, 38]),),\n",
              " (array([10, 96, 97]),),\n",
              " (array([ 8, 10]),),\n",
              " (array([38]),),\n",
              " (array([60, 95]),),\n",
              " (array([11]),),\n",
              " (array([ 0, 10, 94]),),\n",
              " (array([37]),),\n",
              " (array([37]),),\n",
              " (array([ 0, 10]),),\n",
              " (array([38]),),\n",
              " (array([10]),),\n",
              " (array([37, 99]),),\n",
              " (array([37, 47, 77, 78]),),\n",
              " (array([10]),),\n",
              " (array([40, 69]),),\n",
              " (array([10]),),\n",
              " (array([30, 38]),),\n",
              " (array([10]),),\n",
              " (array([35, 53, 59]),),\n",
              " (array([ 7, 10]),),\n",
              " (array([13, 35, 36, 53, 98]),),\n",
              " (array([37]),),\n",
              " (array([66]),),\n",
              " (array([62, 65]),),\n",
              " (array([11]),),\n",
              " (array([38]),),\n",
              " (array([35, 53]),),\n",
              " (array([37, 41, 77, 78]),),\n",
              " (array([10]),),\n",
              " (array([ 0, 10]),),\n",
              " (array([9]),),\n",
              " (array([10]),),\n",
              " (array([21, 38]),),\n",
              " (array([66]),),\n",
              " (array([37, 77]),),\n",
              " (array([10]),),\n",
              " (array([37, 40, 60]),),\n",
              " (array([37]),),\n",
              " (array([10, 94]),),\n",
              " (array([ 0, 10, 80]),),\n",
              " (array([ 3, 37]),),\n",
              " (array([ 0, 88, 90]),),\n",
              " (array([37]),),\n",
              " (array([11, 55]),),\n",
              " (array([69, 70]),),\n",
              " (array([37, 99]),),\n",
              " (array([37]),),\n",
              " (array([ 3, 37]),),\n",
              " (array([ 1, 40, 50, 60]),),\n",
              " (array([69]),),\n",
              " (array([10]),),\n",
              " (array([38, 39]),),\n",
              " (array([10, 27, 94]),),\n",
              " (array([ 3, 37]),),\n",
              " (array([32, 38]),),\n",
              " (array([ 7, 10, 87]),),\n",
              " (array([ 8, 10, 20, 70]),),\n",
              " (array([48, 70]),),\n",
              " (array([38, 51]),),\n",
              " (array([ 4, 38]),),\n",
              " (array([11]),),\n",
              " (array([17, 37]),),\n",
              " (array([38, 40, 51]),),\n",
              " (array([10, 17]),),\n",
              " (array([38]),),\n",
              " (array([20, 40, 62]),),\n",
              " (array([37]),),\n",
              " (array([10, 80]),),\n",
              " (array([ 1, 21, 39, 70]),),\n",
              " (array([21, 32, 38]),),\n",
              " (array([50, 60]),),\n",
              " (array([ 9, 36, 98]),),\n",
              " (array([ 0, 10, 80]),),\n",
              " (array([69, 70]),),\n",
              " (array([9]),),\n",
              " (array([10, 43, 81]),),\n",
              " (array([ 7, 88]),),\n",
              " (array([ 7, 10]),),\n",
              " (array([11, 65]),),\n",
              " (array([39, 40, 70]),),\n",
              " (array([ 0, 10]),),\n",
              " (array([35, 53]),),\n",
              " (array([37, 78]),),\n",
              " (array([ 6, 11, 28, 61]),),\n",
              " (array([38, 51]),),\n",
              " (array([10]),),\n",
              " (array([12, 53]),),\n",
              " (array([10]),),\n",
              " (array([32, 38, 60]),),\n",
              " (array([37, 79]),),\n",
              " (array([11]),),\n",
              " (array([35, 53, 82]),),\n",
              " (array([60, 87]),),\n",
              " (array([37, 40]),),\n",
              " (array([56, 82]),),\n",
              " (array([38]),),\n",
              " (array([62]),),\n",
              " (array([20, 62]),),\n",
              " (array([ 1, 37]),),\n",
              " (array([60]),),\n",
              " (array([40, 62, 63]),),\n",
              " (array([52, 55, 62]),),\n",
              " (array([29, 37]),),\n",
              " (array([37]),),\n",
              " (array([35, 82]),),\n",
              " (array([ 3, 37]),),\n",
              " (array([70]),),\n",
              " (array([ 7, 10]),),\n",
              " (array([62]),),\n",
              " (array([37]),),\n",
              " (array([11]),),\n",
              " (array([20]),),\n",
              " (array([ 3, 30, 37]),),\n",
              " (array([ 6, 60]),),\n",
              " (array([21, 38]),),\n",
              " (array([62, 63]),),\n",
              " (array([59, 69, 93]),),\n",
              " (array([32, 38]),),\n",
              " (array([10]),),\n",
              " (array([62]),),\n",
              " (array([38, 39]),),\n",
              " (array([37]),),\n",
              " (array([11]),),\n",
              " (array([69]),),\n",
              " (array([38]),),\n",
              " (array([60]),),\n",
              " (array([ 0, 10]),),\n",
              " (array([60]),),\n",
              " (array([60]),),\n",
              " (array([10, 24]),),\n",
              " (array([38, 39, 87]),),\n",
              " (array([32, 38, 60]),),\n",
              " (array([20, 62]),),\n",
              " (array([37]),),\n",
              " (array([69, 70]),),\n",
              " (array([60]),),\n",
              " (array([ 0, 10]),),\n",
              " (array([69, 70]),),\n",
              " (array([ 0, 10, 17]),),\n",
              " (array([10]),),\n",
              " (array([10]),),\n",
              " (array([ 7, 10]),),\n",
              " (array([13, 36, 53]),),\n",
              " (array([37, 47, 78]),),\n",
              " (array([27, 40, 60]),),\n",
              " (array([ 3, 25, 37]),),\n",
              " (array([20]),),\n",
              " (array([53]),),\n",
              " (array([22, 37]),),\n",
              " (array([11, 55]),),\n",
              " (array([38, 39]),),\n",
              " (array([37]),),\n",
              " (array([14, 60]),),\n",
              " (array([69, 70, 79]),),\n",
              " (array([37]),),\n",
              " (array([10, 94]),),\n",
              " (array([38]),),\n",
              " (array([60]),),\n",
              " (array([ 3,  9, 11]),),\n",
              " (array([62]),),\n",
              " (array([ 3, 37]),),\n",
              " (array([ 7, 10]),),\n",
              " (array([ 1, 34, 39, 60]),),\n",
              " (array([60]),),\n",
              " (array([11]),),\n",
              " (array([69, 70]),),\n",
              " (array([11]),),\n",
              " (array([37]),),\n",
              " (array([ 8, 10]),),\n",
              " (array([14, 60]),),\n",
              " (array([60]),),\n",
              " (array([37]),),\n",
              " (array([ 1, 39, 60]),),\n",
              " (array([12, 60]),),\n",
              " (array([9]),),\n",
              " (array([18, 60]),),\n",
              " (array([15, 32, 38]),),\n",
              " (array([62, 63]),),\n",
              " (array([10]),),\n",
              " (array([ 7, 10]),),\n",
              " (array([ 9, 11, 44]),),\n",
              " (array([37]),),\n",
              " (array([20]),),\n",
              " (array([15, 38, 39]),),\n",
              " (array([50, 60]),),\n",
              " (array([38, 39, 40, 58]),),\n",
              " (array([26, 33, 38]),),\n",
              " (array([22, 37]),),\n",
              " (array([ 0,  7, 10, 24, 80]),),\n",
              " (array([60]),),\n",
              " (array([ 8, 10]),),\n",
              " (array([38]),),\n",
              " (array([38]),),\n",
              " (array([37, 47]),),\n",
              " (array([42, 60]),),\n",
              " (array([10, 43]),),\n",
              " (array([ 3, 37]),),\n",
              " (array([ 9, 44, 75]),),\n",
              " (array([25, 38]),),\n",
              " (array([ 7, 10]),),\n",
              " (array([ 1,  4, 10]),),\n",
              " (array([37]),),\n",
              " (array([37]),),\n",
              " (array([ 3, 10]),),\n",
              " (array([22, 31, 37, 92]),),\n",
              " (array([35, 82]),),\n",
              " (array([38, 60]),),\n",
              " (array([70]),),\n",
              " (array([10, 17, 96]),),\n",
              " (array([38]),),\n",
              " (array([37]),),\n",
              " (array([42, 60]),),\n",
              " (array([37]),),\n",
              " (array([35, 53]),),\n",
              " (array([37]),),\n",
              " (array([37]),),\n",
              " (array([62, 87]),),\n",
              " (array([27, 60]),),\n",
              " (array([37, 83]),),\n",
              " (array([20]),),\n",
              " (array([19, 57, 62]),),\n",
              " (array([10]),),\n",
              " (array([32, 38]),),\n",
              " (array([15, 32, 33, 38]),),\n",
              " (array([ 3, 37]),),\n",
              " (array([20]),),\n",
              " (array([37]),),\n",
              " (array([60, 92]),),\n",
              " (array([ 4, 32, 38]),),\n",
              " (array([ 9, 44]),),\n",
              " (array([10, 80]),),\n",
              " (array([46, 88]),),\n",
              " (array([ 1, 32, 38, 39, 84]),),\n",
              " (array([62]),),\n",
              " (array([38, 39]),),\n",
              " (array([62]),),\n",
              " (array([ 8, 10]),),\n",
              " (array([10, 96]),),\n",
              " (array([38, 39]),),\n",
              " (array([69, 70, 81]),),\n",
              " (array([ 9, 11, 44]),),\n",
              " (array([17, 50, 60]),),\n",
              " (array([20, 62, 86]),),\n",
              " (array([35, 36, 53, 98]),),\n",
              " (array([35, 36, 53]),),\n",
              " (array([11, 55]),),\n",
              " (array([ 1, 15, 39, 60]),),\n",
              " (array([36, 53]),),\n",
              " (array([ 7, 88]),),\n",
              " (array([ 7, 10]),),\n",
              " (array([9]),),\n",
              " (array([37]),),\n",
              " (array([31, 37, 77]),),\n",
              " (array([62, 81]),),\n",
              " (array([37, 72]),),\n",
              " (array([11, 55]),),\n",
              " (array([ 3, 37]),),\n",
              " (array([11, 81]),),\n",
              " (array([70]),),\n",
              " (array([20]),),\n",
              " (array([37, 40]),),\n",
              " (array([11]),),\n",
              " (array([37]),),\n",
              " (array([ 7,  8, 38, 39]),),\n",
              " (array([14, 30, 38, 39, 60]),),\n",
              " (array([37]),),\n",
              " (array([9]),),\n",
              " (array([15, 32, 38]),),\n",
              " (array([ 7, 38, 89]),),\n",
              " (array([10]),),\n",
              " (array([70]),),\n",
              " (array([ 0, 10]),),\n",
              " (array([35, 36, 53]),),\n",
              " (array([36, 53]),),\n",
              " (array([69, 70]),),\n",
              " (array([10, 80]),),\n",
              " (array([10, 29]),),\n",
              " (array([ 0, 10]),),\n",
              " (array([43, 88]),),\n",
              " (array([ 3, 37]),),\n",
              " (array([32, 38]),),\n",
              " (array([10, 43]),),\n",
              " (array([88]),),\n",
              " (array([32, 38, 39]),),\n",
              " (array([50, 60]),),\n",
              " (array([37, 79, 83]),),\n",
              " (array([69]),),\n",
              " (array([17, 38, 39, 60]),),\n",
              " (array([38]),),\n",
              " (array([62]),),\n",
              " (array([13, 36, 53]),),\n",
              " (array([ 0, 10]),),\n",
              " (array([62]),),\n",
              " (array([38]),),\n",
              " (array([32, 38, 50, 60]),),\n",
              " (array([32, 50, 60]),),\n",
              " (array([38]),),\n",
              " (array([20]),),\n",
              " (array([88]),),\n",
              " (array([10]),),\n",
              " (array([38, 39]),),\n",
              " (array([69]),),\n",
              " (array([45, 62]),),\n",
              " (array([15, 38, 39]),),\n",
              " (array([42, 60]),),\n",
              " (array([37]),),\n",
              " (array([38]),),\n",
              " (array([11]),),\n",
              " (array([69, 70]),),\n",
              " (array([10]),),\n",
              " (array([37]),),\n",
              " (array([37, 44]),),\n",
              " (array([ 0, 10]),),\n",
              " (array([38, 39]),),\n",
              " (array([37]),),\n",
              " (array([11, 65]),),\n",
              " (array([20]),),\n",
              " (array([60]),),\n",
              " (array([37, 58]),),\n",
              " (array([35, 38]),),\n",
              " (array([32, 60]),),\n",
              " (array([37, 77]),),\n",
              " (array([60]),),\n",
              " (array([ 7, 10, 89]),),\n",
              " (array([53, 56]),),\n",
              " (array([60]),),\n",
              " (array([10]),),\n",
              " (array([10, 94]),),\n",
              " (array([10]),),\n",
              " (array([38]),),\n",
              " (array([11, 49]),),\n",
              " (array([38, 39]),),\n",
              " (array([38]),),\n",
              " (array([54, 60]),),\n",
              " (array([38]),),\n",
              " (array([9]),),\n",
              " (array([26, 62, 81]),),\n",
              " (array([53]),),\n",
              " (array([21, 38, 60]),),\n",
              " (array([38]),),\n",
              " (array([10]),),\n",
              " (array([60]),),\n",
              " (array([57, 62]),),\n",
              " (array([38]),),\n",
              " (array([21, 38]),),\n",
              " (array([10]),),\n",
              " (array([37, 77]),),\n",
              " (array([37, 41, 77, 78]),),\n",
              " (array([37, 41, 73]),),\n",
              " (array([11]),),\n",
              " (array([37]),),\n",
              " (array([12, 37]),),\n",
              " (array([37, 77]),),\n",
              " (array([ 9, 53]),),\n",
              " (array([60]),),\n",
              " (array([35, 53]),),\n",
              " (array([50, 60]),),\n",
              " (array([53]),),\n",
              " (array([38]),),\n",
              " (array([10]),),\n",
              " (array([ 9, 44]),),\n",
              " (array([62, 93]),),\n",
              " (array([11, 89, 93]),),\n",
              " (array([37]),),\n",
              " (array([38]),),\n",
              " (array([37]),),\n",
              " (array([70]),),\n",
              " (array([ 9, 11]),),\n",
              " (array([18, 38]),),\n",
              " (array([50, 60]),),\n",
              " (array([10]),),\n",
              " (array([10]),),\n",
              " (array([38, 39]),),\n",
              " (array([10, 19]),),\n",
              " (array([10]),),\n",
              " (array([37, 68, 77]),),\n",
              " (array([ 0, 10, 24, 79]),),\n",
              " (array([10]),),\n",
              " (array([38]),),\n",
              " (array([62]),),\n",
              " (array([60]),),\n",
              " (array([38, 60, 95]),),\n",
              " (array([10, 99]),),\n",
              " (array([38, 40]),),\n",
              " (array([60]),),\n",
              " (array([35, 53]),),\n",
              " (array([38]),),\n",
              " (array([10, 96]),),\n",
              " (array([66]),),\n",
              " (array([ 6, 62]),),\n",
              " (array([45, 62]),),\n",
              " (array([ 6, 30, 38]),),\n",
              " (array([27, 32, 60]),),\n",
              " (array([60]),),\n",
              " (array([38]),),\n",
              " (array([45, 62]),),\n",
              " (array([ 6, 38]),),\n",
              " (array([ 0, 10, 79, 96]),),\n",
              " (array([38]),),\n",
              " (array([22, 37]),),\n",
              " (array([32, 38]),),\n",
              " (array([24, 37]),),\n",
              " (array([66]),),\n",
              " (array([60]),),\n",
              " (array([30, 38]),),\n",
              " (array([11]),),\n",
              " (array([ 3, 37]),),\n",
              " (array([37]),),\n",
              " (array([10]),),\n",
              " (array([ 0, 10, 94]),),\n",
              " (array([10]),),\n",
              " (array([36, 53, 98]),),\n",
              " (array([31, 37, 49]),),\n",
              " (array([32, 39, 60]),),\n",
              " (array([38]),),\n",
              " (array([31, 37]),),\n",
              " (array([37]),),\n",
              " (array([10]),),\n",
              " (array([37, 72]),),\n",
              " (array([60]),),\n",
              " (array([38]),),\n",
              " (array([37, 68]),),\n",
              " (array([ 1, 37, 38, 40]),),\n",
              " (array([69]),),\n",
              " (array([9]),),\n",
              " (array([10]),),\n",
              " (array([69]),),\n",
              " (array([50, 60, 95]),),\n",
              " (array([37]),),\n",
              " (array([ 7, 88]),),\n",
              " (array([11]),),\n",
              " (array([37]),),\n",
              " (array([ 6, 11, 61]),),\n",
              " (array([35, 53]),),\n",
              " (array([37, 41, 73]),),\n",
              " (array([62]),),\n",
              " (array([37]),),\n",
              " (array([62, 63]),),\n",
              " (array([ 1, 60]),),\n",
              " (array([37, 83]),),\n",
              " (array([32, 38]),),\n",
              " (array([10, 24]),),\n",
              " (array([37]),),\n",
              " (array([37, 60]),),\n",
              " (array([10]),),\n",
              " (array([37, 77]),),\n",
              " (array([11]),),\n",
              " (array([62]),),\n",
              " (array([32, 39, 60]),),\n",
              " (array([17, 32, 60]),),\n",
              " (array([ 9, 11]),),\n",
              " (array([60]),),\n",
              " (array([16, 62, 64]),),\n",
              " (array([ 0, 10]),),\n",
              " (array([15, 38, 39]),),\n",
              " (array([35, 53, 98]),),\n",
              " (array([10, 49]),),\n",
              " (array([30, 32, 38]),),\n",
              " (array([37]),),\n",
              " (array([13, 36, 53]),),\n",
              " (array([69]),),\n",
              " (array([ 3, 37, 60]),),\n",
              " (array([60]),),\n",
              " (array([38]),),\n",
              " (array([60]),),\n",
              " (array([38]),),\n",
              " (array([60]),),\n",
              " (array([62, 63, 93]),),\n",
              " (array([ 3, 10]),),\n",
              " (array([20, 62]),),\n",
              " (array([50, 60]),),\n",
              " (array([11, 49]),),\n",
              " (array([ 0, 10]),),\n",
              " (array([37, 76]),),\n",
              " (array([62]),),\n",
              " (array([13, 35, 53, 85]),),\n",
              " (array([44, 62]),),\n",
              " (array([50, 60]),),\n",
              " (array([69, 70, 93]),),\n",
              " (array([38]),),\n",
              " (array([66]),),\n",
              " (array([ 3, 33, 35, 38]),),\n",
              " (array([38, 39]),),\n",
              " (array([20]),),\n",
              " (array([10]),),\n",
              " (array([37]),),\n",
              " (array([11]),),\n",
              " (array([14, 60]),),\n",
              " (array([62, 67]),),\n",
              " (array([37, 51, 59, 75]),),\n",
              " (array([32, 38]),),\n",
              " (array([ 3, 15, 38, 39]),),\n",
              " (array([60]),),\n",
              " (array([10, 72]),),\n",
              " (array([15, 38]),),\n",
              " (array([ 1,  6, 10, 38, 39]),),\n",
              " (array([ 3, 10]),),\n",
              " (array([60]),),\n",
              " (array([ 0, 10, 43, 79]),),\n",
              " (array([37, 77]),),\n",
              " (array([38]),),\n",
              " (array([37]),),\n",
              " (array([37]),),\n",
              " (array([38]),),\n",
              " (array([10, 43, 46]),),\n",
              " (array([17, 50, 60]),),\n",
              " (array([11]),),\n",
              " (array([62, 76]),),\n",
              " (array([ 9, 11, 75]),),\n",
              " (array([ 3, 37]),),\n",
              " (array([60]),),\n",
              " (array([70]),),\n",
              " (array([17, 50, 60, 79]),),\n",
              " (array([62]),),\n",
              " (array([ 4, 38, 84]),),\n",
              " (array([60]),),\n",
              " (array([40, 62]),),\n",
              " (array([37]),),\n",
              " (array([10]),),\n",
              " (array([ 3, 37]),),\n",
              " (array([21, 38]),),\n",
              " (array([37]),),\n",
              " (array([10]),),\n",
              " (array([18, 19, 50, 60]),),\n",
              " (array([38]),),\n",
              " (array([10, 29]),),\n",
              " (array([32, 60]),),\n",
              " (array([32, 37, 81]),),\n",
              " (array([ 0, 10, 79, 80]),),\n",
              " (array([37]),),\n",
              " (array([60, 74]),),\n",
              " (array([34, 88, 96]),),\n",
              " (array([11]),),\n",
              " (array([ 1, 38, 39, 50, 60]),),\n",
              " (array([38, 60]),),\n",
              " (array([10, 49, 59]),),\n",
              " (array([35, 36, 53]),),\n",
              " (array([20, 62]),),\n",
              " (array([32, 38]),),\n",
              " (array([19, 60]),),\n",
              " (array([10, 79]),),\n",
              " (array([37]),),\n",
              " (array([38]),),\n",
              " (array([ 0, 10, 89]),),\n",
              " (array([10, 91]),),\n",
              " (array([37]),),\n",
              " (array([45, 66]),),\n",
              " (array([10]),),\n",
              " (array([ 1, 60]),),\n",
              " (array([37, 40, 68]),),\n",
              " (array([10, 19]),),\n",
              " (array([11, 12, 28, 61]),),\n",
              " (array([37, 40]),),\n",
              " (array([10]),),\n",
              " (array([ 3, 37]),),\n",
              " (array([35, 53]),),\n",
              " (array([35, 82]),),\n",
              " (array([ 7,  8, 10]),),\n",
              " (array([11]),),\n",
              " (array([10, 38]),),\n",
              " (array([37, 83]),),\n",
              " (array([9]),),\n",
              " (array([10]),),\n",
              " (array([ 7, 10]),),\n",
              " (array([10, 86, 90]),),\n",
              " (array([35, 82]),),\n",
              " (array([10]),),\n",
              " (array([38, 98]),),\n",
              " (array([ 0, 10]),),\n",
              " (array([34, 60]),),\n",
              " (array([62]),),\n",
              " (array([62]),),\n",
              " (array([11, 38, 65]),),\n",
              " (array([11, 55, 65]),),\n",
              " (array([ 9, 11]),),\n",
              " (array([70]),),\n",
              " (array([38]),),\n",
              " (array([38, 39]),),\n",
              " (array([ 3, 22, 40, 50, 60]),),\n",
              " (array([60]),),\n",
              " (array([ 9, 11, 75]),),\n",
              " (array([38, 60]),),\n",
              " (array([37, 81]),),\n",
              " (array([ 3, 30, 37]),),\n",
              " (array([ 6, 52, 62]),),\n",
              " (array([ 3, 15, 32, 38]),),\n",
              " (array([70]),),\n",
              " (array([ 9, 49, 61]),),\n",
              " (array([12, 62]),),\n",
              " (array([11]),),\n",
              " (array([ 5, 24, 37]),),\n",
              " (array([ 0, 10, 96, 97]),),\n",
              " (array([10, 16]),),\n",
              " (array([10]),),\n",
              " (array([ 4, 38]),),\n",
              " (array([10]),),\n",
              " (array([37]),),\n",
              " (array([11, 65]),),\n",
              " (array([62]),),\n",
              " (array([38, 39]),),\n",
              " (array([37, 47, 69]),),\n",
              " (array([ 6, 52, 62]),),\n",
              " (array([10]),),\n",
              " (array([38, 48, 59]),),\n",
              " (array([15, 33, 70]),),\n",
              " (array([66]),),\n",
              " (array([10, 94]),),\n",
              " (array([82]),),\n",
              " (array([69]),),\n",
              " (array([32, 60, 95]),),\n",
              " (array([33, 35, 38]),),\n",
              " (array([52, 62]),),\n",
              " (array([37, 99]),),\n",
              " (array([11]),),\n",
              " (array([70, 71]),),\n",
              " (array([13, 35, 53]),),\n",
              " (array([37, 39, 41, 87]),),\n",
              " (array([38, 39]),),\n",
              " (array([57, 62]),),\n",
              " (array([15, 32, 38, 39]),),\n",
              " (array([38]),),\n",
              " (array([35, 36, 53]),),\n",
              " (array([38]),),\n",
              " (array([20]),),\n",
              " (array([62]),),\n",
              " (array([ 0,  7,  8, 10, 86]),),\n",
              " (array([37]),),\n",
              " (array([38]),),\n",
              " (array([35, 53]),),\n",
              " (array([60]),),\n",
              " (array([38]),),\n",
              " (array([11]),),\n",
              " (array([50, 60, 79]),),\n",
              " (array([32, 50, 60]),),\n",
              " (array([70]),),\n",
              " (array([38, 39]),),\n",
              " (array([39, 70]),),\n",
              " (array([ 3, 37]),),\n",
              " (array([60]),),\n",
              " (array([62]),),\n",
              " (array([60]),),\n",
              " (array([37, 83]),),\n",
              " (array([22, 37]),),\n",
              " (array([38, 45]),),\n",
              " (array([60]),),\n",
              " (array([82]),),\n",
              " (array([ 1, 38, 39]),),\n",
              " (array([37]),),\n",
              " (array([50, 60]),),\n",
              " (array([ 6, 11]),),\n",
              " (array([10, 99]),),\n",
              " (array([69, 74]),),\n",
              " (array([ 1, 38]),),\n",
              " (array([38]),),\n",
              " (array([37]),),\n",
              " (array([37]),),\n",
              " (array([38]),),\n",
              " (array([15, 32, 38, 39]),),\n",
              " (array([66]),),\n",
              " (array([60]),),\n",
              " (array([37, 45]),),\n",
              " (array([66]),),\n",
              " (array([66]),),\n",
              " (array([37]),),\n",
              " (array([ 5, 48, 60]),),\n",
              " (array([10, 91]),),\n",
              " (array([27, 32, 38, 60]),),\n",
              " (array([69, 70]),),\n",
              " (array([37]),),\n",
              " (array([35, 53, 98]),),\n",
              " (array([ 3, 22, 37]),),\n",
              " (array([15, 32, 38]),),\n",
              " (array([50, 60]),),\n",
              " (array([37]),),\n",
              " (array([11]),),\n",
              " (array([37]),),\n",
              " (array([11]),),\n",
              " (array([38]),),\n",
              " (array([10, 94]),),\n",
              " (array([52, 62]),),\n",
              " (array([60]),),\n",
              " (array([60]),),\n",
              " (array([ 9, 11]),),\n",
              " (array([ 0, 10, 94]),),\n",
              " (array([ 3,  7, 10, 37]),),\n",
              " (array([ 1, 39, 60, 95]),),\n",
              " (array([11]),),\n",
              " (array([37]),),\n",
              " (array([37]),),\n",
              " (array([60, 86]),),\n",
              " (array([10]),),\n",
              " (array([21, 32, 38]),),\n",
              " (array([ 4, 32, 38]),),\n",
              " (array([60, 99]),),\n",
              " (array([11, 65]),),\n",
              " (array([10]),),\n",
              " (array([38, 51]),),\n",
              " (array([10, 94]),),\n",
              " (array([ 7, 10]),),\n",
              " (array([10, 94]),),\n",
              " (array([ 7, 10, 24]),),\n",
              " (array([32, 38]),),\n",
              " (array([62]),),\n",
              " (array([62, 86]),),\n",
              " (array([11]),),\n",
              " (array([57, 62]),),\n",
              " (array([ 9, 11]),),\n",
              " (array([10, 45, 96, 97]),),\n",
              " (array([38, 39]),),\n",
              " (array([11, 56]),),\n",
              " (array([ 2,  3, 37]),),\n",
              " (array([20, 62]),),\n",
              " (array([37]),),\n",
              " (array([36, 53]),),\n",
              " (array([ 3, 37]),),\n",
              " (array([37]),),\n",
              " (array([62]),),\n",
              " (array([32, 38, 39, 60]),),\n",
              " (array([11]),),\n",
              " (array([40, 62, 67, 86]),),\n",
              " (array([ 8, 10]),),\n",
              " (array([9]),),\n",
              " (array([38, 59, 81]),),\n",
              " (array([38]),),\n",
              " (array([38]),),\n",
              " (array([ 3, 37, 40]),),\n",
              " (array([9]),),\n",
              " (array([31, 37]),),\n",
              " (array([ 7,  8, 10]),),\n",
              " (array([82]),),\n",
              " (array([10, 94]),),\n",
              " (array([36, 53]),),\n",
              " (array([37]),),\n",
              " (array([38]),),\n",
              " (array([38, 39]),),\n",
              " (array([15, 38, 39]),),\n",
              " (array([15, 70, 84]),),\n",
              " (array([ 4, 10]),),\n",
              " (array([62, 63]),),\n",
              " (array([38]),),\n",
              " (array([60]),),\n",
              " (array([ 7, 32, 38, 67, 92]),),\n",
              " (array([31, 37]),),\n",
              " (array([ 9, 11, 49]),),\n",
              " (array([10, 43]),),\n",
              " (array([ 6, 17, 60]),),\n",
              " (array([37]),),\n",
              " (array([ 7, 88]),),\n",
              " (array([57, 62]),),\n",
              " (array([ 1, 39, 60]),),\n",
              " (array([20, 62]),),\n",
              " (array([10, 94]),),\n",
              " (array([60]),),\n",
              " (array([70]),),\n",
              " (array([66]),),\n",
              " (array([37, 67]),),\n",
              " (array([62]),),\n",
              " (array([20, 27, 62, 87]),),\n",
              " (array([10, 49, 51]),),\n",
              " (array([ 3, 37]),),\n",
              " (array([37]),),\n",
              " (array([37]),),\n",
              " (array([ 7, 10, 88]),),\n",
              " (array([11, 93]),),\n",
              " (array([10, 38]),),\n",
              " (array([37]),),\n",
              " (array([62]),),\n",
              " (array([69]),),\n",
              " (array([37, 92]),),\n",
              " (array([10, 67]),),\n",
              " (array([ 4, 37, 47, 51]),),\n",
              " (array([37, 49]),),\n",
              " (array([62]),),\n",
              " (array([36, 53]),),\n",
              " (array([38]),),\n",
              " (array([11]),),\n",
              " (array([11]),),\n",
              " (array([ 7, 10, 79]),),\n",
              " (array([10]),),\n",
              " (array([37]),),\n",
              " (array([38]),),\n",
              " (array([10, 94]),),\n",
              " (array([11]),),\n",
              " (array([38, 39]),),\n",
              " (array([39, 60, 67]),),\n",
              " (array([ 1, 38, 39, 60]),),\n",
              " (array([50, 60]),),\n",
              " (array([37]),),\n",
              " (array([10]),),\n",
              " (array([60]),),\n",
              " (array([37]),),\n",
              " (array([37, 99]),),\n",
              " (array([9]),),\n",
              " (array([37, 47, 99]),),\n",
              " (array([70]),),\n",
              " (array([33, 38, 39]),),\n",
              " (array([19, 66]),),\n",
              " (array([37, 49]),),\n",
              " (array([ 7, 38, 39]),),\n",
              " (array([37]),),\n",
              " (array([37]),),\n",
              " (array([60]),),\n",
              " (array([10, 90, 96]),),\n",
              " (array([38, 39, 40]),),\n",
              " (array([11]),),\n",
              " (array([38]),),\n",
              " (array([38]),),\n",
              " (array([10]),),\n",
              " (array([37]),),\n",
              " (array([88, 94]),),\n",
              " (array([11]),),\n",
              " (array([20, 62]),),\n",
              " (array([37]),),\n",
              " (array([62, 72]),),\n",
              " (array([20, 62]),),\n",
              " (array([57, 62]),),\n",
              " (array([69, 70]),),\n",
              " (array([25, 37]),),\n",
              " (array([32, 38, 39]),),\n",
              " (array([34, 62]),),\n",
              " (array([37]),),\n",
              " (array([25, 38]),),\n",
              " (array([ 9, 55, 62]),),\n",
              " (array([20, 40, 62, 63]),),\n",
              " (array([ 1, 38]),),\n",
              " (array([15, 32, 62]),),\n",
              " (array([10]),),\n",
              " (array([11, 65]),),\n",
              " (array([10, 97]),),\n",
              " (array([11, 45, 61]),),\n",
              " (array([32, 38, 39]),),\n",
              " (array([14, 60]),),\n",
              " (array([10]),),\n",
              " (array([38, 39]),),\n",
              " (array([22, 60, 67]),),\n",
              " (array([35, 53]),),\n",
              " (array([ 0, 10, 94]),),\n",
              " (array([32, 60]),),\n",
              " (array([60]),),\n",
              " (array([11, 89]),),\n",
              " (array([37]),),\n",
              " (array([38]),),\n",
              " (array([50, 60]),),\n",
              " (array([10, 93]),),\n",
              " (array([ 2, 11]),),\n",
              " (array([38, 39]),),\n",
              " (array([62]),),\n",
              " (array([10]),),\n",
              " (array([38]),),\n",
              " (array([10]),),\n",
              " (array([ 3, 32, 37, 60]),),\n",
              " (array([37, 77]),),\n",
              " (array([38]),),\n",
              " (array([10, 23, 94]),),\n",
              " (array([ 0,  7, 10]),),\n",
              " (array([10, 89]),),\n",
              " (array([16, 66]),),\n",
              " (array([11]),),\n",
              " (array([35, 82, 98]),),\n",
              " (array([21, 60, 99]),),\n",
              " (array([37]),),\n",
              " (array([35, 53]),),\n",
              " (array([38, 62, 64]),),\n",
              " (array([10]),),\n",
              " (array([22, 37, 83]),),\n",
              " (array([38, 70]),),\n",
              " (array([32, 38, 39]),),\n",
              " (array([11, 90]),),\n",
              " (array([10, 91]),),\n",
              " (array([27, 32, 38, 60]),),\n",
              " (array([ 6, 38, 60, 95]),),\n",
              " (array([10]),),\n",
              " (array([ 1, 14, 38, 39]),),\n",
              " (array([37, 48]),),\n",
              " (array([15, 38]),),\n",
              " (array([38, 54]),),\n",
              " (array([37]),),\n",
              " (array([62]),),\n",
              " (array([32, 38]),),\n",
              " (array([22, 37]),),\n",
              " (array([10, 96]),),\n",
              " (array([70]),),\n",
              " (array([35, 36, 82, 98]),),\n",
              " (array([ 1,  7, 10, 39, 40]),),\n",
              " (array([38, 39]),),\n",
              " (array([10, 94]),),\n",
              " (array([ 5, 37, 56]),),\n",
              " (array([37, 75]),),\n",
              " (array([ 6, 37]),),\n",
              " (array([9]),),\n",
              " (array([36, 53, 81]),),\n",
              " (array([38]),),\n",
              " (array([20]),),\n",
              " (array([32, 38, 39]),),\n",
              " (array([ 5, 37, 75]),),\n",
              " (array([34, 69, 70]),),\n",
              " (array([ 3, 37]),),\n",
              " (array([11]),),\n",
              " (array([10, 72]),),\n",
              " (array([ 7, 10, 33]),),\n",
              " (array([10, 49]),),\n",
              " (array([38]),),\n",
              " (array([15, 32, 60, 95]),),\n",
              " (array([62]),),\n",
              " ...]"
            ]
          },
          "metadata": {
            "tags": []
          },
          "execution_count": 136
        }
      ]
    },
    {
      "metadata": {
        "id": "cb5HGqqGHpp5",
        "colab_type": "code",
        "outputId": "5ebf0983-8cf7-463e-8693-568efec1e873",
        "colab": {
          "base_uri": "https://localhost:8080/",
          "height": 34
        }
      },
      "cell_type": "code",
      "source": [
        "accuracy_score(y_val, y_val_predicted_labels_mybag)"
      ],
      "execution_count": 0,
      "outputs": [
        {
          "output_type": "execute_result",
          "data": {
            "text/plain": [
              "0.36033333333333334"
            ]
          },
          "metadata": {
            "tags": []
          },
          "execution_count": 130
        }
      ]
    },
    {
      "metadata": {
        "id": "_2WTt3QXNAG_",
        "colab_type": "code",
        "outputId": "c3ac033e-073b-4806-9304-37cef12b1f21",
        "colab": {
          "base_uri": "https://localhost:8080/",
          "height": 229
        }
      },
      "cell_type": "code",
      "source": [
        "print('Bag-of-words')\n",
        "print_evaluation_scores(y_val, y_val_predicted_labels_mybag)\n",
        "# print('Tfidf')\n",
        "# print_evaluation_scores(y_val, y_val_predicted_labels_tfidf)"
      ],
      "execution_count": 0,
      "outputs": [
        {
          "output_type": "stream",
          "text": [
            "Bag-of-words\n"
          ],
          "name": "stdout"
        },
        {
          "output_type": "error",
          "ename": "NameError",
          "evalue": "ignored",
          "traceback": [
            "\u001b[0;31m---------------------------------------------------------------------------\u001b[0m",
            "\u001b[0;31mNameError\u001b[0m                                 Traceback (most recent call last)",
            "\u001b[0;32m<ipython-input-128-a7be53e5e92d>\u001b[0m in \u001b[0;36m<module>\u001b[0;34m()\u001b[0m\n\u001b[1;32m      1\u001b[0m \u001b[0mprint\u001b[0m\u001b[0;34m(\u001b[0m\u001b[0;34m'Bag-of-words'\u001b[0m\u001b[0;34m)\u001b[0m\u001b[0;34m\u001b[0m\u001b[0;34m\u001b[0m\u001b[0m\n\u001b[0;32m----> 2\u001b[0;31m \u001b[0mprint_evaluation_scores\u001b[0m\u001b[0;34m(\u001b[0m\u001b[0my_val\u001b[0m\u001b[0;34m,\u001b[0m \u001b[0my_val_predicted_labels_mybag\u001b[0m\u001b[0;34m)\u001b[0m\u001b[0;34m\u001b[0m\u001b[0;34m\u001b[0m\u001b[0m\n\u001b[0m\u001b[1;32m      3\u001b[0m \u001b[0;31m# print('Tfidf')\u001b[0m\u001b[0;34m\u001b[0m\u001b[0;34m\u001b[0m\u001b[0;34m\u001b[0m\u001b[0m\n\u001b[1;32m      4\u001b[0m \u001b[0;31m# print_evaluation_scores(y_val, y_val_predicted_labels_tfidf)\u001b[0m\u001b[0;34m\u001b[0m\u001b[0;34m\u001b[0m\u001b[0;34m\u001b[0m\u001b[0m\n",
            "\u001b[0;31mNameError\u001b[0m: name 'print_evaluation_scores' is not defined"
          ]
        }
      ]
    },
    {
      "metadata": {
        "id": "lWjaEBc1NAHB",
        "colab_type": "text"
      },
      "cell_type": "markdown",
      "source": [
        "You might also want to plot some generalization of the [ROC curve](http://scikit-learn.org/stable/modules/model_evaluation.html#receiver-operating-characteristic-roc) for the case of multi-label classification. Provided function *roc_auc* can make it for you. The input parameters of this function are:\n",
        " - true labels\n",
        " - decision functions scores\n",
        " - number of classes"
      ]
    },
    {
      "metadata": {
        "id": "04TXmFL7NAHC",
        "colab_type": "code",
        "colab": {}
      },
      "cell_type": "code",
      "source": [
        "from metrics import roc_auc\n",
        "%matplotlib inline"
      ],
      "execution_count": 0,
      "outputs": []
    },
    {
      "metadata": {
        "id": "AdCvKeDHNAHE",
        "colab_type": "code",
        "colab": {}
      },
      "cell_type": "code",
      "source": [
        "n_classes = len(tags_counts)\n",
        "roc_auc(y_val, y_val_predicted_scores_mybag, n_classes)"
      ],
      "execution_count": 0,
      "outputs": []
    },
    {
      "metadata": {
        "id": "A8ATDawUNAHI",
        "colab_type": "code",
        "colab": {}
      },
      "cell_type": "code",
      "source": [
        "n_classes = len(tags_counts)\n",
        "roc_auc(y_val, y_val_predicted_scores_tfidf, n_classes)"
      ],
      "execution_count": 0,
      "outputs": []
    },
    {
      "metadata": {
        "id": "nzZndQW2NAHN",
        "colab_type": "text"
      },
      "cell_type": "markdown",
      "source": [
        "**Task 4 (MultilabelClassification).** Once we have the evaluation set up, we suggest that you experiment a bit with training your classifiers. We will use *F1-score weighted* as an evaluation metric. Our recommendation:\n",
        "- compare the quality of the bag-of-words and TF-IDF approaches and chose one of them.\n",
        "- for the chosen one, try *L1* and *L2*-regularization techniques in Logistic Regression with different coefficients (e.g. C equal to 0.1, 1, 10, 100).\n",
        "\n",
        "You also could try other improvements of the preprocessing / model, if you want. "
      ]
    },
    {
      "metadata": {
        "id": "VHJ2PO3uNAHO",
        "colab_type": "code",
        "colab": {}
      },
      "cell_type": "code",
      "source": [
        "######################################\n",
        "######### YOUR CODE HERE #############\n",
        "######################################"
      ],
      "execution_count": 0,
      "outputs": []
    },
    {
      "metadata": {
        "id": "XwfhNEZGNAHS",
        "colab_type": "text"
      },
      "cell_type": "markdown",
      "source": [
        "When you are happy with the quality, create predictions for *test* set, which you will submit to Coursera."
      ]
    },
    {
      "metadata": {
        "id": "pM4MnkoOMgxW",
        "colab_type": "code",
        "outputId": "f58d12d0-ee44-47eb-dc59-e681273ee88b",
        "colab": {
          "base_uri": "https://localhost:8080/",
          "height": 235
        }
      },
      "cell_type": "code",
      "source": [
        "pd.Series(mlb.inverse_transform(y_val_predicted_labels_mybag)).map(len).value_counts()\n",
        "\n",
        "validation.tags.map(len).value_counts()"
      ],
      "execution_count": 0,
      "outputs": [
        {
          "output_type": "execute_result",
          "data": {
            "text/plain": [
              "1    13136\n",
              "2     8324\n",
              "0     6063\n",
              "3     1991\n",
              "4      414\n",
              "5       67\n",
              "6        5\n",
              "dtype: int64"
            ]
          },
          "metadata": {
            "tags": []
          },
          "execution_count": 172
        },
        {
          "output_type": "execute_result",
          "data": {
            "text/plain": [
              "2    12402\n",
              "1    10521\n",
              "3     5343\n",
              "4     1514\n",
              "5      220\n",
              "Name: tags, dtype: int64"
            ]
          },
          "metadata": {
            "tags": []
          },
          "execution_count": 172
        }
      ]
    },
    {
      "metadata": {
        "id": "6rnyjrR0JPtf",
        "colab_type": "code",
        "outputId": "1fc1c315-d841-4aa1-9ccd-dbfed829397a",
        "colab": {
          "base_uri": "https://localhost:8080/",
          "height": 343
        }
      },
      "cell_type": "code",
      "source": [
        "ind = 10\n",
        "\n",
        "pd.options.display.max_colwidth = 100\n",
        "\n",
        "pd.concat([validation[:ind], \n",
        "           pd.Series(mlb.inverse_transform(y_val_predicted_labels_mybag[:ind]))], axis = 1)"
      ],
      "execution_count": 0,
      "outputs": [
        {
          "output_type": "execute_result",
          "data": {
            "text/html": [
              "<div>\n",
              "<style scoped>\n",
              "    .dataframe tbody tr th:only-of-type {\n",
              "        vertical-align: middle;\n",
              "    }\n",
              "\n",
              "    .dataframe tbody tr th {\n",
              "        vertical-align: top;\n",
              "    }\n",
              "\n",
              "    .dataframe thead th {\n",
              "        text-align: right;\n",
              "    }\n",
              "</style>\n",
              "<table border=\"1\" class=\"dataframe\">\n",
              "  <thead>\n",
              "    <tr style=\"text-align: right;\">\n",
              "      <th></th>\n",
              "      <th>title</th>\n",
              "      <th>tags</th>\n",
              "      <th>0</th>\n",
              "    </tr>\n",
              "  </thead>\n",
              "  <tbody>\n",
              "    <tr>\n",
              "      <th>0</th>\n",
              "      <td>Why odbc_exec always fail?</td>\n",
              "      <td>[php, sql]</td>\n",
              "      <td>()</td>\n",
              "    </tr>\n",
              "    <tr>\n",
              "      <th>1</th>\n",
              "      <td>Access a base classes variable from within a child class</td>\n",
              "      <td>[javascript]</td>\n",
              "      <td>()</td>\n",
              "    </tr>\n",
              "    <tr>\n",
              "      <th>2</th>\n",
              "      <td>Content-Type \"application/json\" not required in rails</td>\n",
              "      <td>[ruby-on-rails, ruby]</td>\n",
              "      <td>(ruby-on-rails,)</td>\n",
              "    </tr>\n",
              "    <tr>\n",
              "      <th>3</th>\n",
              "      <td>Sessions in Sinatra: Used to Pass Variable</td>\n",
              "      <td>[ruby, session]</td>\n",
              "      <td>(ruby,)</td>\n",
              "    </tr>\n",
              "    <tr>\n",
              "      <th>4</th>\n",
              "      <td>Getting error - type \"json\" does not exist - in Postgresql during rake db migrate</td>\n",
              "      <td>[ruby-on-rails, ruby, json]</td>\n",
              "      <td>(json, ruby-on-rails)</td>\n",
              "    </tr>\n",
              "    <tr>\n",
              "      <th>5</th>\n",
              "      <td>library not found for.....?</td>\n",
              "      <td>[c++, iphone, ios, xcode]</td>\n",
              "      <td>()</td>\n",
              "    </tr>\n",
              "    <tr>\n",
              "      <th>6</th>\n",
              "      <td>.csproj File - Programmatic adding/deleting files</td>\n",
              "      <td>[c#]</td>\n",
              "      <td>()</td>\n",
              "    </tr>\n",
              "    <tr>\n",
              "      <th>7</th>\n",
              "      <td>TypeError: makedirs() got an unexpected keyword argument 'exists_ok'</td>\n",
              "      <td>[python, django]</td>\n",
              "      <td>(python,)</td>\n",
              "    </tr>\n",
              "    <tr>\n",
              "      <th>8</th>\n",
              "      <td>How to Pan a div using JQuery</td>\n",
              "      <td>[javascript, jquery, html]</td>\n",
              "      <td>(javascript, jquery)</td>\n",
              "    </tr>\n",
              "    <tr>\n",
              "      <th>9</th>\n",
              "      <td>Hibernate intermediate/advanced tutorials</td>\n",
              "      <td>[java, hibernate]</td>\n",
              "      <td>(hibernate, java)</td>\n",
              "    </tr>\n",
              "  </tbody>\n",
              "</table>\n",
              "</div>"
            ],
            "text/plain": [
              "                                                                               title  \\\n",
              "0                                                         Why odbc_exec always fail?   \n",
              "1                           Access a base classes variable from within a child class   \n",
              "2                              Content-Type \"application/json\" not required in rails   \n",
              "3                                         Sessions in Sinatra: Used to Pass Variable   \n",
              "4  Getting error - type \"json\" does not exist - in Postgresql during rake db migrate   \n",
              "5                                                        library not found for.....?   \n",
              "6                                  .csproj File - Programmatic adding/deleting files   \n",
              "7               TypeError: makedirs() got an unexpected keyword argument 'exists_ok'   \n",
              "8                                                      How to Pan a div using JQuery   \n",
              "9                                          Hibernate intermediate/advanced tutorials   \n",
              "\n",
              "                          tags                      0  \n",
              "0                   [php, sql]                     ()  \n",
              "1                 [javascript]                     ()  \n",
              "2        [ruby-on-rails, ruby]       (ruby-on-rails,)  \n",
              "3              [ruby, session]                (ruby,)  \n",
              "4  [ruby-on-rails, ruby, json]  (json, ruby-on-rails)  \n",
              "5    [c++, iphone, ios, xcode]                     ()  \n",
              "6                         [c#]                     ()  \n",
              "7             [python, django]              (python,)  \n",
              "8   [javascript, jquery, html]   (javascript, jquery)  \n",
              "9            [java, hibernate]      (hibernate, java)  "
            ]
          },
          "metadata": {
            "tags": []
          },
          "execution_count": 156
        }
      ]
    },
    {
      "metadata": {
        "id": "OzJbebOGNAHT",
        "colab_type": "code",
        "colab": {}
      },
      "cell_type": "code",
      "source": [
        "test_predictions = ######### YOUR CODE HERE #############\n",
        "test_pred_inversed = mlb.inverse_transform(test_predictions)\n",
        "\n",
        "test_predictions_for_submission = '\\n'.join('%i\\t%s' % (i, ','.join(row)) for i, row in enumerate(test_pred_inversed))\n",
        "grader.submit_tag('MultilabelClassification', test_predictions_for_submission)"
      ],
      "execution_count": 0,
      "outputs": []
    },
    {
      "metadata": {
        "id": "z4SM0of1NAHW",
        "colab_type": "text"
      },
      "cell_type": "markdown",
      "source": [
        "### Analysis of the most important features"
      ]
    },
    {
      "metadata": {
        "id": "mUlrL9MDNAHX",
        "colab_type": "text"
      },
      "cell_type": "markdown",
      "source": [
        "Finally, it is usually a good idea to look at the features (words or n-grams) that are used with the largest weigths in your logistic regression model."
      ]
    },
    {
      "metadata": {
        "id": "MoOJxDMPNAHY",
        "colab_type": "text"
      },
      "cell_type": "markdown",
      "source": [
        "Implement the function *print_words_for_tag* to find them. Get back to sklearn documentation on [OneVsRestClassifier](http://scikit-learn.org/stable/modules/generated/sklearn.multiclass.OneVsRestClassifier.html) and [LogisticRegression](http://scikit-learn.org/stable/modules/generated/sklearn.linear_model.LogisticRegression.html) if needed."
      ]
    },
    {
      "metadata": {
        "id": "vh7v-H0sNAHZ",
        "colab_type": "code",
        "colab": {}
      },
      "cell_type": "code",
      "source": [
        "def print_words_for_tag(classifier, tag, tags_classes, index_to_words, all_words):\n",
        "    \"\"\"\n",
        "        classifier: trained classifier\n",
        "        tag: particular tag\n",
        "        tags_classes: a list of classes names from MultiLabelBinarizer\n",
        "        index_to_words: index_to_words transformation\n",
        "        all_words: all words in the dictionary\n",
        "        \n",
        "        return nothing, just print top 5 positive and top 5 negative words for current tag\n",
        "    \"\"\"\n",
        "    print('Tag:\\t{}'.format(tag))\n",
        "    \n",
        "    # Extract an estimator from the classifier for the given tag.\n",
        "    # Extract feature coefficients from the estimator. \n",
        "    \n",
        "    ######################################\n",
        "    ######### YOUR CODE HERE #############\n",
        "    ######################################\n",
        "    \n",
        "    top_positive_words = # top-5 words sorted by the coefficiens.\n",
        "    top_negative_words = # bottom-5 words  sorted by the coefficients.\n",
        "    print('Top positive words:\\t{}'.format(', '.join(top_positive_words)))\n",
        "    print('Top negative words:\\t{}\\n'.format(', '.join(top_negative_words)))"
      ],
      "execution_count": 0,
      "outputs": []
    },
    {
      "metadata": {
        "id": "WA9fYgtTNAHf",
        "colab_type": "code",
        "colab": {}
      },
      "cell_type": "code",
      "source": [
        "print_words_for_tag(classifier_tfidf, 'c', mlb.classes, tfidf_reversed_vocab, ALL_WORDS)\n",
        "print_words_for_tag(classifier_tfidf, 'c++', mlb.classes, tfidf_reversed_vocab, ALL_WORDS)\n",
        "print_words_for_tag(classifier_tfidf, 'linux', mlb.classes, tfidf_reversed_vocab, ALL_WORDS)"
      ],
      "execution_count": 0,
      "outputs": []
    },
    {
      "metadata": {
        "id": "TbyMMEUGNAHj",
        "colab_type": "text"
      },
      "cell_type": "markdown",
      "source": [
        "### Authorization & Submission\n",
        "To submit assignment parts to Cousera platform, please, enter your e-mail and token into variables below. You can generate token on this programming assignment page. <b>Note:</b> Token expires 30 minutes after generation."
      ]
    },
    {
      "metadata": {
        "id": "kJwxhVzQNAHj",
        "colab_type": "code",
        "outputId": "042eb60a-388a-486d-fde0-da164a6cd908",
        "colab": {
          "base_uri": "https://localhost:8080/",
          "height": 235
        }
      },
      "cell_type": "code",
      "source": [
        "grader.status()"
      ],
      "execution_count": 0,
      "outputs": [
        {
          "output_type": "stream",
          "text": [
            "You want to submit these parts:\n",
            "Task TextPrepare:\n",
            " sqlite php readonly\n",
            "creating multiple textboxes dynamically\n",
            "self one prefer javascript\n",
            "save php date...\n",
            "Task WordsTagsCount:\n",
            " javascript,java,php\n",
            "using,php,java...\n",
            "Task BagOfWords:\n",
            " 6.0...\n",
            "Task MultilabelClassification:\n",
            " ----------...\n"
          ],
          "name": "stdout"
        }
      ]
    },
    {
      "metadata": {
        "id": "vpJOzLPjNAHl",
        "colab_type": "code",
        "colab": {}
      },
      "cell_type": "code",
      "source": [
        "STUDENT_EMAIL = # EMAIL \n",
        "STUDENT_TOKEN = # TOKEN \n",
        "grader.status()"
      ],
      "execution_count": 0,
      "outputs": []
    },
    {
      "metadata": {
        "id": "2bzw5n5TNAHn",
        "colab_type": "text"
      },
      "cell_type": "markdown",
      "source": [
        "If you want to submit these answers, run cell below"
      ]
    },
    {
      "metadata": {
        "id": "pqJf1CoANAHn",
        "colab_type": "code",
        "colab": {}
      },
      "cell_type": "code",
      "source": [
        "grader.submit(STUDENT_EMAIL, STUDENT_TOKEN)"
      ],
      "execution_count": 0,
      "outputs": []
    },
    {
      "metadata": {
        "id": "l1NtrdJm35TQ",
        "colab_type": "code",
        "colab": {}
      },
      "cell_type": "code",
      "source": [
        ""
      ],
      "execution_count": 0,
      "outputs": []
    }
  ]
}